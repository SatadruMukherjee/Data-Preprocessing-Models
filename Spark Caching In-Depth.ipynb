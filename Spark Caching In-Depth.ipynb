{
 "cells": [
  {
   "cell_type": "code",
   "execution_count": 0,
   "metadata": {
    "application/vnd.databricks.v1+cell": {
     "cellMetadata": {
      "byteLimit": 2048000,
      "rowLimit": 10000
     },
     "inputWidgets": {},
     "nuid": "4adbcde4-c84c-48db-91ac-8453d6a2097f",
     "showTitle": false,
     "tableResultSettingsMap": {},
     "title": ""
    }
   },
   "outputs": [],
   "source": [
    "access_key = ''\n",
    "secret_key = ''\n",
    "encoded_secret_key = secret_key.replace(\"/\", \"%2F\")\n",
    "aws_bucket_name = ''\n",
    "mount_name = \"test_cache\"\n",
    "dbutils.fs.mount(f\"s3a://{access_key}:{encoded_secret_key}@{aws_bucket_name}\", f\"/mnt/{mount_name}\")"
   ]
  },
  {
   "cell_type": "code",
   "execution_count": 0,
   "metadata": {
    "application/vnd.databricks.v1+cell": {
     "cellMetadata": {
      "byteLimit": 2048000,
      "rowLimit": 10000
     },
     "inputWidgets": {},
     "nuid": "0374734f-dc6d-4b17-9736-17b3079a9be9",
     "showTitle": false,
     "tableResultSettingsMap": {},
     "title": ""
    }
   },
   "outputs": [],
   "source": [
    "from pyspark.sql.functions import *"
   ]
  },
  {
   "cell_type": "code",
   "execution_count": 0,
   "metadata": {
    "application/vnd.databricks.v1+cell": {
     "cellMetadata": {
      "byteLimit": 2048000,
      "rowLimit": 10000
     },
     "inputWidgets": {},
     "nuid": "c728d8e8-9b38-4fa3-a342-40e1683e24d3",
     "showTitle": false,
     "tableResultSettingsMap": {},
     "title": ""
    }
   },
   "outputs": [
    {
     "output_type": "stream",
     "name": "stdout",
     "output_type": "stream",
     "text": [
      "+---------------------------------------------------+-----+\n|input_file_name()                                  |count|\n+---------------------------------------------------+-----+\n|dbfs:/mnt/test_cache/iris_data/Versicolor.csv      |51   |\n|dbfs:/mnt/test_cache/iris_data/Virginica.csv       |50   |\n|dbfs:/mnt/test_cache/iris_data/another_category.csv|27   |\n|dbfs:/mnt/test_cache/iris_data/Setosa1.csv         |27   |\n+---------------------------------------------------+-----+\n\n"
     ]
    }
   ],
   "source": [
    "df=spark.read.format('csv').option('inferSchema',True).option('header',True).load('/mnt/test_cache/iris_data/')\n",
    "df.groupBy(input_file_name()).count().show(truncate=False)"
   ]
  },
  {
   "cell_type": "code",
   "execution_count": 0,
   "metadata": {
    "application/vnd.databricks.v1+cell": {
     "cellMetadata": {
      "byteLimit": 2048000,
      "rowLimit": 10000
     },
     "inputWidgets": {},
     "nuid": "b8951360-5a17-40ed-bd63-50fa0911a08c",
     "showTitle": false,
     "tableResultSettingsMap": {},
     "title": ""
    }
   },
   "outputs": [
    {
     "output_type": "stream",
     "name": "stdout",
     "output_type": "stream",
     "text": [
      "+---+------------+-----------+------------+-----------+---------------+\n| Id|SEPAL_LENGTH|SEPAL_WIDTH|PETAL_LENGTH|PETAL_WIDTH|     CLASS_NAME|\n+---+------------+-----------+------------+-----------+---------------+\n|  1|         7.0|        3.2|         4.7|        1.4|Iris-versicolor|\n|  2|         6.4|        3.2|         4.5|        1.5|Iris-versicolor|\n|  3|         6.9|        3.1|         4.9|        1.5|Iris-versicolor|\n|  4|         5.5|        2.3|         4.0|        1.3|Iris-versicolor|\n|  5|         6.5|        2.8|         4.6|        1.5|Iris-versicolor|\n+---+------------+-----------+------------+-----------+---------------+\nonly showing top 5 rows\n\n"
     ]
    }
   ],
   "source": [
    "df.show(5)"
   ]
  },
  {
   "cell_type": "code",
   "execution_count": 0,
   "metadata": {
    "application/vnd.databricks.v1+cell": {
     "cellMetadata": {
      "byteLimit": 2048000,
      "rowLimit": 10000
     },
     "inputWidgets": {},
     "nuid": "7acdc792-2616-4231-a414-d372a4d251f0",
     "showTitle": false,
     "tableResultSettingsMap": {},
     "title": ""
    }
   },
   "outputs": [
    {
     "output_type": "stream",
     "name": "stdout",
     "output_type": "stream",
     "text": [
      "+----------------+-----------------+\n|class_name      |sum_sepal_length |\n+----------------+-----------------+\n|Iris-virginica  |329.3999999999999|\n|Iris-versicolor |302.5            |\n|another-category|135.7            |\n|Iris-setosa     |135.7            |\n+----------------+-----------------+\n\n"
     ]
    }
   ],
   "source": [
    "df.groupBy('class_name').agg(\n",
    "    F.sum('sepal_length').alias('sum_sepal_length')\n",
    ").orderBy(F.col('sum_sepal_length').desc()).show(truncate=False)"
   ]
  },
  {
   "cell_type": "markdown",
   "metadata": {
    "application/vnd.databricks.v1+cell": {
     "cellMetadata": {},
     "inputWidgets": {},
     "nuid": "0a2ec60c-21c3-4e51-a25b-d6464213074f",
     "showTitle": false,
     "tableResultSettingsMap": {},
     "title": ""
    }
   },
   "source": [
    "**Check Job & Storage Tab after executing above command**"
   ]
  },
  {
   "cell_type": "code",
   "execution_count": 0,
   "metadata": {
    "application/vnd.databricks.v1+cell": {
     "cellMetadata": {
      "byteLimit": 2048000,
      "rowLimit": 10000
     },
     "inputWidgets": {},
     "nuid": "a53fddbe-e2e9-4f63-a8b2-9c99cd53b957",
     "showTitle": false,
     "tableResultSettingsMap": {},
     "title": ""
    }
   },
   "outputs": [
    {
     "output_type": "execute_result",
     "data": {
      "text/plain": [
       "DataFrame[Id: int, SEPAL_LENGTH: double, SEPAL_WIDTH: double, PETAL_LENGTH: double, PETAL_WIDTH: double, CLASS_NAME: string]"
      ]
     },
     "execution_count": 29,
     "metadata": {},
     "output_type": "execute_result"
    }
   ],
   "source": [
    "df.cache()"
   ]
  },
  {
   "cell_type": "markdown",
   "metadata": {
    "application/vnd.databricks.v1+cell": {
     "cellMetadata": {},
     "inputWidgets": {},
     "nuid": "f0d1a1f1-2f3f-4162-afaa-eb047664e314",
     "showTitle": false,
     "tableResultSettingsMap": {},
     "title": ""
    }
   },
   "source": [
    "**Check Storage Tab after executing above command**"
   ]
  },
  {
   "cell_type": "code",
   "execution_count": 0,
   "metadata": {
    "application/vnd.databricks.v1+cell": {
     "cellMetadata": {
      "byteLimit": 2048000,
      "rowLimit": 10000
     },
     "inputWidgets": {},
     "nuid": "eea0b399-6bfa-4845-8ecb-e40382eae11f",
     "showTitle": false,
     "tableResultSettingsMap": {},
     "title": ""
    }
   },
   "outputs": [
    {
     "output_type": "stream",
     "name": "stdout",
     "output_type": "stream",
     "text": [
      "+----------------+-----------------+\n|class_name      |sum_sepal_length |\n+----------------+-----------------+\n|Iris-virginica  |329.3999999999999|\n|Iris-versicolor |302.5            |\n|another-category|135.7            |\n|Iris-setosa     |135.7            |\n+----------------+-----------------+\n\n"
     ]
    }
   ],
   "source": [
    "df.groupBy('class_name').agg(\n",
    "    F.sum('sepal_length').alias('sum_sepal_length')\n",
    ").orderBy(F.col('sum_sepal_length').desc()).show(truncate=False)"
   ]
  },
  {
   "cell_type": "code",
   "execution_count": 0,
   "metadata": {
    "application/vnd.databricks.v1+cell": {
     "cellMetadata": {
      "byteLimit": 2048000,
      "rowLimit": 10000
     },
     "inputWidgets": {},
     "nuid": "fd04c18f-d409-44c1-a637-b3e5ffc4a92a",
     "showTitle": false,
     "tableResultSettingsMap": {},
     "title": ""
    }
   },
   "outputs": [
    {
     "output_type": "execute_result",
     "data": {
      "text/plain": [
       "4"
      ]
     },
     "execution_count": 32,
     "metadata": {},
     "output_type": "execute_result"
    }
   ],
   "source": [
    "df.rdd.getNumPartitions()"
   ]
  },
  {
   "cell_type": "markdown",
   "metadata": {
    "application/vnd.databricks.v1+cell": {
     "cellMetadata": {},
     "inputWidgets": {},
     "nuid": "e2230705-01d1-4e1d-9247-b68b7b5f3c96",
     "showTitle": false,
     "tableResultSettingsMap": {},
     "title": ""
    }
   },
   "source": [
    "**Check Job & Storage Tab after executing above command**"
   ]
  },
  {
   "cell_type": "code",
   "execution_count": 0,
   "metadata": {
    "application/vnd.databricks.v1+cell": {
     "cellMetadata": {
      "byteLimit": 2048000,
      "rowLimit": 10000
     },
     "inputWidgets": {},
     "nuid": "a122328e-a767-4d31-b739-dc6b79c06030",
     "showTitle": false,
     "tableResultSettingsMap": {},
     "title": ""
    }
   },
   "outputs": [
    {
     "output_type": "execute_result",
     "data": {
      "text/plain": [
       "DataFrame[Id: int, SEPAL_LENGTH: double, SEPAL_WIDTH: double, PETAL_LENGTH: double, PETAL_WIDTH: double, CLASS_NAME: string]"
      ]
     },
     "execution_count": 33,
     "metadata": {},
     "output_type": "execute_result"
    }
   ],
   "source": [
    "df.unpersist()"
   ]
  },
  {
   "cell_type": "markdown",
   "metadata": {
    "application/vnd.databricks.v1+cell": {
     "cellMetadata": {},
     "inputWidgets": {},
     "nuid": "1e891e49-6bbf-428d-b769-96e9a956fb91",
     "showTitle": false,
     "tableResultSettingsMap": {},
     "title": ""
    }
   },
   "source": [
    "**Check Storage Tab after executing above command**"
   ]
  },
  {
   "cell_type": "code",
   "execution_count": 0,
   "metadata": {
    "application/vnd.databricks.v1+cell": {
     "cellMetadata": {
      "byteLimit": 2048000,
      "rowLimit": 10000
     },
     "inputWidgets": {},
     "nuid": "ff0f4e7b-17f3-476a-9d13-08f8e05ac942",
     "showTitle": false,
     "tableResultSettingsMap": {},
     "title": ""
    }
   },
   "outputs": [
    {
     "output_type": "execute_result",
     "data": {
      "text/plain": [
       "155"
      ]
     },
     "execution_count": 34,
     "metadata": {},
     "output_type": "execute_result"
    }
   ],
   "source": [
    "df.cache().count()"
   ]
  },
  {
   "cell_type": "markdown",
   "metadata": {
    "application/vnd.databricks.v1+cell": {
     "cellMetadata": {},
     "inputWidgets": {},
     "nuid": "499e20cf-0e57-47dd-bd66-94711b611413",
     "showTitle": false,
     "tableResultSettingsMap": {},
     "title": ""
    }
   },
   "source": [
    "**Check Storage Tab after executing above command**"
   ]
  },
  {
   "cell_type": "code",
   "execution_count": 0,
   "metadata": {
    "application/vnd.databricks.v1+cell": {
     "cellMetadata": {
      "byteLimit": 2048000,
      "rowLimit": 10000
     },
     "inputWidgets": {},
     "nuid": "7d4092cf-03fc-4ae2-bb7d-0134b05d7608",
     "showTitle": false,
     "tableResultSettingsMap": {},
     "title": ""
    }
   },
   "outputs": [
    {
     "output_type": "stream",
     "name": "stdout",
     "output_type": "stream",
     "text": [
      "+----------------+-----------------+\n|class_name      |sum_sepal_length |\n+----------------+-----------------+\n|Iris-virginica  |329.3999999999999|\n|Iris-versicolor |302.5            |\n|another-category|135.7            |\n|Iris-setosa     |135.7            |\n+----------------+-----------------+\n\n"
     ]
    }
   ],
   "source": [
    "df.groupBy('class_name').agg(\n",
    "    F.sum('sepal_length').alias('sum_sepal_length')\n",
    ").orderBy(F.col('sum_sepal_length').desc()).show(truncate=False)"
   ]
  },
  {
   "cell_type": "markdown",
   "metadata": {
    "application/vnd.databricks.v1+cell": {
     "cellMetadata": {},
     "inputWidgets": {},
     "nuid": "11e93b38-daaa-424a-87ac-90d8f48bd18d",
     "showTitle": false,
     "tableResultSettingsMap": {},
     "title": ""
    }
   },
   "source": [
    "%md\n",
    "**Check Job & Storage Tab after executing above command**"
   ]
  },
  {
   "cell_type": "code",
   "execution_count": 0,
   "metadata": {
    "application/vnd.databricks.v1+cell": {
     "cellMetadata": {
      "byteLimit": 2048000,
      "rowLimit": 10000
     },
     "inputWidgets": {},
     "nuid": "18bcd25f-3a42-4b15-a285-976d717460c4",
     "showTitle": false,
     "tableResultSettingsMap": {},
     "title": ""
    }
   },
   "outputs": [
    {
     "output_type": "execute_result",
     "data": {
      "text/plain": [
       "DataFrame[Id: int, SEPAL_LENGTH: double, SEPAL_WIDTH: double, PETAL_LENGTH: double, PETAL_WIDTH: double, CLASS_NAME: string]"
      ]
     },
     "execution_count": 36,
     "metadata": {},
     "output_type": "execute_result"
    }
   ],
   "source": [
    "df.unpersist()"
   ]
  },
  {
   "cell_type": "markdown",
   "metadata": {
    "application/vnd.databricks.v1+cell": {
     "cellMetadata": {},
     "inputWidgets": {},
     "nuid": "7cfd7dfa-d578-4cde-b103-8afb07c1f296",
     "showTitle": false,
     "tableResultSettingsMap": {},
     "title": ""
    }
   },
   "source": [
    "**Check  Storage Tab after executing above command**"
   ]
  },
  {
   "cell_type": "code",
   "execution_count": 0,
   "metadata": {
    "application/vnd.databricks.v1+cell": {
     "cellMetadata": {
      "byteLimit": 2048000,
      "rowLimit": 10000
     },
     "inputWidgets": {},
     "nuid": "2cea6faa-38fa-49f8-a573-7b706775813d",
     "showTitle": false,
     "tableResultSettingsMap": {},
     "title": ""
    }
   },
   "outputs": [
    {
     "output_type": "execute_result",
     "data": {
      "text/plain": [
       "[Row(Id=1, SEPAL_LENGTH=7.0, SEPAL_WIDTH=3.2, PETAL_LENGTH=4.7, PETAL_WIDTH=1.4, CLASS_NAME='Iris-versicolor'),\n",
       " Row(Id=2, SEPAL_LENGTH=6.4, SEPAL_WIDTH=3.2, PETAL_LENGTH=4.5, PETAL_WIDTH=1.5, CLASS_NAME='Iris-versicolor'),\n",
       " Row(Id=3, SEPAL_LENGTH=6.9, SEPAL_WIDTH=3.1, PETAL_LENGTH=4.9, PETAL_WIDTH=1.5, CLASS_NAME='Iris-versicolor'),\n",
       " Row(Id=4, SEPAL_LENGTH=5.5, SEPAL_WIDTH=2.3, PETAL_LENGTH=4.0, PETAL_WIDTH=1.3, CLASS_NAME='Iris-versicolor'),\n",
       " Row(Id=5, SEPAL_LENGTH=6.5, SEPAL_WIDTH=2.8, PETAL_LENGTH=4.6, PETAL_WIDTH=1.5, CLASS_NAME='Iris-versicolor'),\n",
       " Row(Id=6, SEPAL_LENGTH=5.7, SEPAL_WIDTH=2.8, PETAL_LENGTH=4.5, PETAL_WIDTH=1.3, CLASS_NAME='Iris-versicolor'),\n",
       " Row(Id=7, SEPAL_LENGTH=6.3, SEPAL_WIDTH=3.3, PETAL_LENGTH=4.7, PETAL_WIDTH=1.6, CLASS_NAME='Iris-versicolor'),\n",
       " Row(Id=8, SEPAL_LENGTH=4.9, SEPAL_WIDTH=2.4, PETAL_LENGTH=3.3, PETAL_WIDTH=1.0, CLASS_NAME='Iris-versicolor'),\n",
       " Row(Id=9, SEPAL_LENGTH=6.6, SEPAL_WIDTH=2.9, PETAL_LENGTH=4.6, PETAL_WIDTH=1.3, CLASS_NAME='Iris-versicolor'),\n",
       " Row(Id=10, SEPAL_LENGTH=5.2, SEPAL_WIDTH=2.7, PETAL_LENGTH=3.9, PETAL_WIDTH=1.4, CLASS_NAME='Iris-versicolor')]"
      ]
     },
     "execution_count": 37,
     "metadata": {},
     "output_type": "execute_result"
    }
   ],
   "source": [
    "df.cache().take(10)"
   ]
  },
  {
   "cell_type": "markdown",
   "metadata": {
    "application/vnd.databricks.v1+cell": {
     "cellMetadata": {},
     "inputWidgets": {},
     "nuid": "d841a17e-d17c-4494-ba95-f4f8a56e027c",
     "showTitle": false,
     "tableResultSettingsMap": {},
     "title": ""
    }
   },
   "source": [
    "**Check Storage Tab after executing above command**"
   ]
  },
  {
   "cell_type": "code",
   "execution_count": 0,
   "metadata": {
    "application/vnd.databricks.v1+cell": {
     "cellMetadata": {
      "byteLimit": 2048000,
      "rowLimit": 10000
     },
     "inputWidgets": {},
     "nuid": "8f5956f2-f391-4122-9121-564bb9edd88a",
     "showTitle": false,
     "tableResultSettingsMap": {},
     "title": ""
    }
   },
   "outputs": [
    {
     "output_type": "stream",
     "name": "stdout",
     "output_type": "stream",
     "text": [
      "+----------------+-----------------+\n|class_name      |sum_sepal_length |\n+----------------+-----------------+\n|Iris-virginica  |329.3999999999999|\n|Iris-versicolor |302.5            |\n|another-category|135.7            |\n|Iris-setosa     |135.7            |\n+----------------+-----------------+\n\n"
     ]
    }
   ],
   "source": [
    "df.groupBy('class_name').agg(\n",
    "    F.sum('sepal_length').alias('sum_sepal_length')\n",
    ").orderBy(F.col('sum_sepal_length').desc()).show(truncate=False)"
   ]
  },
  {
   "cell_type": "markdown",
   "metadata": {
    "application/vnd.databricks.v1+cell": {
     "cellMetadata": {},
     "inputWidgets": {},
     "nuid": "fe000270-bb3e-4b51-8f48-4e6c9eead63c",
     "showTitle": false,
     "tableResultSettingsMap": {},
     "title": ""
    }
   },
   "source": [
    "%md\n",
    "**Check Jobs & Storage Tab after executing above command**"
   ]
  },
  {
   "cell_type": "code",
   "execution_count": 0,
   "metadata": {
    "application/vnd.databricks.v1+cell": {
     "cellMetadata": {
      "byteLimit": 2048000,
      "rowLimit": 10000
     },
     "inputWidgets": {},
     "nuid": "1a4efa0c-0710-4006-9509-47d02b9e3faf",
     "showTitle": false,
     "tableResultSettingsMap": {},
     "title": ""
    }
   },
   "outputs": [],
   "source": [
    "df.unpersist()"
   ]
  }
 ],
 "metadata": {
  "application/vnd.databricks.v1+notebook": {
   "computePreferences": null,
   "dashboards": [],
   "environmentMetadata": {
    "base_environment": "",
    "environment_version": "2"
   },
   "language": "python",
   "notebookMetadata": {
    "pythonIndentUnit": 4
   },
   "notebookName": "Spark Caching In-Depth",
   "widgets": {}
  },
  "language_info": {
   "name": "python"
  }
 },
 "nbformat": 4,
 "nbformat_minor": 0
}