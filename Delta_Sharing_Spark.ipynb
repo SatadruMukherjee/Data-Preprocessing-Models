{
  "nbformat": 4,
  "nbformat_minor": 0,
  "metadata": {
    "colab": {
      "provenance": [],
      "authorship_tag": "ABX9TyOr2SPYkyyaLl5lV5uf/E1L",
      "include_colab_link": true
    },
    "kernelspec": {
      "name": "python3",
      "display_name": "Python 3"
    },
    "language_info": {
      "name": "python"
    }
  },
  "cells": [
    {
      "cell_type": "markdown",
      "metadata": {
        "id": "view-in-github",
        "colab_type": "text"
      },
      "source": [
        "<a href=\"https://colab.research.google.com/github/SatadruMukherjee/Data-Preprocessing-Models/blob/main/Delta_Sharing_Spark.ipynb\" target=\"_parent\"><img src=\"https://colab.research.google.com/assets/colab-badge.svg\" alt=\"Open In Colab\"/></a>"
      ]
    },
    {
      "cell_type": "code",
      "execution_count": null,
      "metadata": {
        "id": "upIf8OOOdQ-n"
      },
      "outputs": [],
      "source": [
        "!sudo apt update\n",
        "!apt-get install openjdk-8-jdk-headless -qq > /dev/null\n",
        "#Check this site for the latest download link https://www.apache.org/dyn/closer.lua/spark/spark-3.2.1/spark-3.2.1-bin-hadoop3.2.tgz\n",
        "!wget -q https://dlcdn.apache.org/spark/spark-3.2.1/spark-3.2.1-bin-hadoop3.2.tgz\n",
        "!tar xf spark-3.2.1-bin-hadoop3.2.tgz\n",
        "!pip install -q findspark\n",
        "!pip install pyspark\n",
        "!pip install py4j\n",
        "\n",
        "import os\n",
        "import sys\n",
        "# os.environ[\"JAVA_HOME\"] = \"/usr/lib/jvm/java-8-openjdk-amd64\"\n",
        "# os.environ[\"SPARK_HOME\"] = \"/content/spark-3.2.1-bin-hadoop3.2\"\n",
        "\n",
        "\n",
        "import findspark\n",
        "findspark.init()\n",
        "findspark.find()\n",
        "\n",
        "import pyspark\n",
        "\n",
        "from pyspark.sql import DataFrame, SparkSession\n",
        "from typing import List\n",
        "import pyspark.sql.types as T\n",
        "import pyspark.sql.functions as F\n",
        "\n",
        "spark= SparkSession \\\n",
        "       .builder \\\n",
        "       .appName(\"Our First Spark Example\") \\\n",
        "       .config(\"spark.sql.extensions\", \"io.delta.sql.DeltaSparkSessionExtension\") \\\n",
        "       .config(\"spark.sql.catalog.spark_catalog\", \"org.apache.spark.sql.delta.catalog.DeltaCatalog\") \\\n",
        "       .config(\"spark.jars.packages\", \"io.delta:delta-sharing-spark_2.12:3.1.0\") \\\n",
        "       .getOrCreate()\n",
        "\n",
        "spark"
      ]
    },
    {
      "cell_type": "code",
      "source": [
        "profile_file = \"{}\"\n",
        "table_url = profile_file + \"#<share-name>.<schema-name>.<table-name>\""
      ],
      "metadata": {
        "id": "7z7fueNddc6L"
      },
      "execution_count": null,
      "outputs": []
    },
    {
      "cell_type": "code",
      "source": [
        "df = spark.read.format(\"deltaSharing\").load(table_url)"
      ],
      "metadata": {
        "id": "_bqWdsc0dnJ1"
      },
      "execution_count": null,
      "outputs": []
    },
    {
      "cell_type": "code",
      "source": [
        "df.show()"
      ],
      "metadata": {
        "id": "bOTXfln8dwNu"
      },
      "execution_count": null,
      "outputs": []
    },
    {
      "cell_type": "markdown",
      "source": [
        "# Time Travel"
      ],
      "metadata": {
        "id": "i7MD1LAeeBAn"
      }
    },
    {
      "cell_type": "code",
      "source": [
        "df = spark.read.format(\"deltaSharing\").load(table_url)\n",
        "df.show()"
      ],
      "metadata": {
        "id": "GQgTYlHjiF_s"
      },
      "execution_count": null,
      "outputs": []
    },
    {
      "cell_type": "code",
      "source": [
        "df2=spark.read.format(\"deltaSharing\")\\\n",
        ".option(\"versionAsOf\", 0)\\\n",
        ".load(table_url)"
      ],
      "metadata": {
        "id": "31jv6qLgd63q"
      },
      "execution_count": null,
      "outputs": []
    },
    {
      "cell_type": "code",
      "source": [
        "df2.show()"
      ],
      "metadata": {
        "id": "zrWIaRcriVGV"
      },
      "execution_count": null,
      "outputs": []
    },
    {
      "cell_type": "markdown",
      "source": [
        "# Change Data Feed"
      ],
      "metadata": {
        "id": "W5xrT53Eic8l"
      }
    },
    {
      "cell_type": "code",
      "source": [
        "df=spark.read.format(\"deltaSharing\") \\\n",
        "  .option(\"readChangeFeed\", \"true\")\\\n",
        "  .option(\"responseFormat\", \"delta\")\\\n",
        "  .option(\"startingVersion\", 2)\\\n",
        "  .load(table_url)\n",
        "df.show()"
      ],
      "metadata": {
        "id": "L6_6-uKHiV2T"
      },
      "execution_count": null,
      "outputs": []
    }
  ]
}