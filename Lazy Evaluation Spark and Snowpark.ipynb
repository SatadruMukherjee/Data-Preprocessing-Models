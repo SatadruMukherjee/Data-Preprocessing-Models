{
 "metadata": {
  "kernelspec": {
   "display_name": "Streamlit Notebook",
   "name": "streamlit"
  },
  "lastEditStatus": {
   "notebookId": "ebvcpxpvbuthpqrmiocw",
   "authorId": "7910860649403",
   "authorName": "SATADRU",
   "authorEmail": "satadru1998@gmail.com",
   "sessionId": "b22876de-dffc-49e8-9baf-5ddf79750a7b",
   "lastEditTime": 1754795111857
  }
 },
 "nbformat_minor": 5,
 "nbformat": 4,
 "cells": [
  {
   "cell_type": "code",
   "id": "3775908f-ca36-4846-8f38-5adca39217f2",
   "metadata": {
    "language": "python",
    "name": "cell1"
   },
   "source": "# Import python packages\nimport streamlit as st\nimport pandas as pd\nfrom datetime import datetime\n# We can also use Snowpark for our analyses!\nfrom snowflake.snowpark.context import get_active_session\nfrom snowflake.snowpark.functions import *\nsession = get_active_session()",
   "execution_count": null,
   "outputs": []
  },
  {
   "cell_type": "code",
   "id": "2b87b3b6-49bd-4a50-9ebe-84e29bb8f8c1",
   "metadata": {
    "language": "sql",
    "name": "cell6"
   },
   "outputs": [],
   "source": "select 1=1",
   "execution_count": null
  },
  {
   "cell_type": "code",
   "id": "6018bf41-f461-40a4-83f9-1acf9243ddb7",
   "metadata": {
    "language": "sql",
    "name": "cell7"
   },
   "outputs": [],
   "source": "ALTER SESSION SET USE_CACHED_RESULT=FALSE;",
   "execution_count": null
  },
  {
   "cell_type": "code",
   "id": "940c4bdb-259e-484b-8342-da102def5ff7",
   "metadata": {
    "language": "python",
    "name": "cell5"
   },
   "outputs": [],
   "source": "start_time = datetime.now()\ntable_name = \"DEMO_DB.PUBLIC.EMPLOYEE_COURSE_PROGRESS\"\ndf=session.table(table_name)\nprint(df.collect())\n\n# Record end time\nend_time = datetime.now()\n\n# Calculate total runtime\nelapsed = end_time - start_time\nprint(f\"Total execution time: {elapsed}\")",
   "execution_count": null
  },
  {
   "cell_type": "code",
   "id": "09d5b3e8-9faf-49cc-9db1-1e68250f7df2",
   "metadata": {
    "language": "python",
    "name": "cell2",
    "codeCollapsed": false
   },
   "outputs": [],
   "source": "start_time = datetime.now()\ntable_name = \"DEMO_DB.PUBLIC.EMPLOYEE_COURSE_PROGRESS\"\ndf=session.table(table_name)\ndf = (\n    df.with_column(\"IS_COMPLETE\", when(col(\"COMPLETION_PERCENT\") >= 100, lit(True)).otherwise(lit(False)))\n      .with_column(\"UPDATED_BY_SCRIPT\", lit(datetime.now()))\n)\nprint(df.collect())\n\n# Record end time\nend_time = datetime.now()\n\n# Calculate total runtime\nelapsed = end_time - start_time\nprint(f\"Total execution time: {elapsed}\")",
   "execution_count": null
  },
  {
   "cell_type": "code",
   "id": "6034eb65-03ee-463e-afad-8c6ed11f7d81",
   "metadata": {
    "language": "python",
    "name": "cell3"
   },
   "outputs": [],
   "source": "start_time = datetime.now()\n\ntable_name = \"DEMO_DB.PUBLIC.EMPLOYEE_COURSE_PROGRESS\"\ndf=session.table(table_name)\ndf = (\n    df.with_column(\"IS_COMPLETE\", when(col(\"COMPLETION_PERCENT\") >= 100, lit(True)).otherwise(lit(False)))\n      .with_column(\"UPDATED_BY_SCRIPT\", lit(datetime.now()))\n)\ndf=df.drop(\"IS_COMPLETE\",\"UPDATED_BY_SCRIPT\")\nprint(df.collect())\n\n# Record end time\nend_time = datetime.now()\n\n# Calculate total runtime\nelapsed = end_time - start_time\nprint(f\"Total execution time: {elapsed}\")",
   "execution_count": null
  },
  {
   "cell_type": "markdown",
   "id": "933e8358-0f13-4cf2-854d-52434013cbb6",
   "metadata": {
    "name": "cell4",
    "collapsed": false
   },
   "source": "Observation: Total Execution Time is less on more code because the code execution is lazier, yet smarter"
  }
 ]
}