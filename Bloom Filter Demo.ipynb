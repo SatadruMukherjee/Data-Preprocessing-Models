{
 "cells": [
  {
   "cell_type": "markdown",
   "metadata": {
    "application/vnd.databricks.v1+cell": {
     "cellMetadata": {},
     "inputWidgets": {},
     "nuid": "2a8f95a8-8db8-4ea5-9a80-d705b89a6c1b",
     "showTitle": false,
     "tableResultSettingsMap": {},
     "title": ""
    }
   },
   "source": [
    "\n",
    "\n",
    "A Bloom filter index is a space-efficient data structure that enables data skipping on chosen columns, particularly for fields containing **arbitrary text**.\n",
    "\n"
   ]
  },
  {
   "cell_type": "markdown",
   "metadata": {
    "application/vnd.databricks.v1+cell": {
     "cellMetadata": {},
     "inputWidgets": {},
     "nuid": "26406a86-ecfd-4ffc-9c17-b9ca51c28f2e",
     "showTitle": false,
     "tableResultSettingsMap": {},
     "title": ""
    }
   },
   "source": [
    "The catch is that you want to have a reasonable idea of the number of distinct values\n",
    "that need to be indexed, because this will determine the length of hashes needed to\n",
    "avoid collisions if that number is set too small or to avoid wasting space if it is set too\n",
    "large."
   ]
  },
  {
   "cell_type": "markdown",
   "metadata": {
    "application/vnd.databricks.v1+cell": {
     "cellMetadata": {},
     "inputWidgets": {},
     "nuid": "2590f254-cb99-4d27-897a-0fb4c4ca76a1",
     "showTitle": false,
     "tableResultSettingsMap": {},
     "title": ""
    }
   },
   "source": [
    "[Reference Link](https://docs.databricks.com/aws/en/optimizations/bloom-filters)"
   ]
  },
  {
   "cell_type": "code",
   "execution_count": 0,
   "metadata": {
    "application/vnd.databricks.v1+cell": {
     "cellMetadata": {
      "byteLimit": 2048000,
      "rowLimit": 10000
     },
     "inputWidgets": {},
     "nuid": "b9bfac3d-4e61-4619-8007-abefbd1ee55d",
     "showTitle": false,
     "tableResultSettingsMap": {},
     "title": ""
    }
   },
   "outputs": [],
   "source": [
    "access_key =  \"{}\"\n",
    "secret_key = \"{}\"\n",
    "encoded_secret_key = secret_key.replace(\"/\", \"%2F\")\n",
    "aws_bucket_name = \"{}\"\n",
    "mount_name = \"databricks_external_stage_bloom\"\n",
    "\n",
    "dbutils.fs.mount(f\"s3a://{access_key}:{encoded_secret_key}@{aws_bucket_name}\", f\"/mnt/{mount_name}\")"
   ]
  },
  {
   "cell_type": "code",
   "execution_count": 0,
   "metadata": {
    "application/vnd.databricks.v1+cell": {
     "cellMetadata": {
      "byteLimit": 2048000,
      "implicitDf": true,
      "rowLimit": 10000
     },
     "inputWidgets": {},
     "nuid": "a2e49aba-d321-4bd8-a4af-2686246fa897",
     "showTitle": false,
     "tableResultSettingsMap": {},
     "title": ""
    }
   },
   "outputs": [
    {
     "output_type": "display_data",
     "data": {
      "text/html": [
       "<style scoped>\n",
       "  .table-result-container {\n",
       "    max-height: 300px;\n",
       "    overflow: auto;\n",
       "  }\n",
       "  table, th, td {\n",
       "    border: 1px solid black;\n",
       "    border-collapse: collapse;\n",
       "  }\n",
       "  th, td {\n",
       "    padding: 5px;\n",
       "  }\n",
       "  th {\n",
       "    text-align: left;\n",
       "  }\n",
       "</style><div class='table-result-container'><table class='table-result'><thead style='background-color: white'><tr></tr></thead><tbody></tbody></table></div>"
      ]
     },
     "metadata": {
      "application/vnd.databricks.v1+output": {
       "addedWidgets": {},
       "aggData": [],
       "aggError": "",
       "aggOverflow": false,
       "aggSchema": [],
       "aggSeriesLimitReached": false,
       "aggType": "",
       "arguments": {},
       "columnCustomDisplayInfos": {},
       "data": [],
       "datasetInfos": [],
       "dbfsResultPath": null,
       "isJsonSchema": true,
       "metadata": {
        "dataframeName": null
       },
       "overflow": false,
       "plotOptions": {
        "customPlotOptions": {},
        "displayType": "table",
        "pivotAggregation": null,
        "pivotColumns": null,
        "xColumns": null,
        "yColumns": null
       },
       "removedWidgets": [],
       "schema": [],
       "type": "table"
      }
     },
     "output_type": "display_data"
    }
   ],
   "source": [
    "%sql\n",
    "drop table if exists hive_metastore.default.bloom_filter_demo;"
   ]
  },
  {
   "cell_type": "code",
   "execution_count": 0,
   "metadata": {
    "application/vnd.databricks.v1+cell": {
     "cellMetadata": {
      "byteLimit": 2048000,
      "implicitDf": true,
      "rowLimit": 10000
     },
     "inputWidgets": {},
     "nuid": "e73c2724-3567-4b36-9cb0-aa4cb7a6b1a9",
     "showTitle": false,
     "tableResultSettingsMap": {},
     "title": ""
    }
   },
   "outputs": [
    {
     "output_type": "display_data",
     "data": {
      "text/html": [
       "<style scoped>\n",
       "  .table-result-container {\n",
       "    max-height: 300px;\n",
       "    overflow: auto;\n",
       "  }\n",
       "  table, th, td {\n",
       "    border: 1px solid black;\n",
       "    border-collapse: collapse;\n",
       "  }\n",
       "  th, td {\n",
       "    padding: 5px;\n",
       "  }\n",
       "  th {\n",
       "    text-align: left;\n",
       "  }\n",
       "</style><div class='table-result-container'><table class='table-result'><thead style='background-color: white'><tr></tr></thead><tbody></tbody></table></div>"
      ]
     },
     "metadata": {
      "application/vnd.databricks.v1+output": {
       "addedWidgets": {},
       "aggData": [],
       "aggError": "",
       "aggOverflow": false,
       "aggSchema": [],
       "aggSeriesLimitReached": false,
       "aggType": "",
       "arguments": {},
       "columnCustomDisplayInfos": {},
       "data": [],
       "datasetInfos": [],
       "dbfsResultPath": null,
       "isJsonSchema": true,
       "metadata": {
        "dataframeName": null
       },
       "overflow": false,
       "plotOptions": {
        "customPlotOptions": {},
        "displayType": "table",
        "pivotAggregation": null,
        "pivotColumns": null,
        "xColumns": null,
        "yColumns": null
       },
       "removedWidgets": [],
       "schema": [],
       "type": "table"
      }
     },
     "output_type": "display_data"
    }
   ],
   "source": [
    "%sql\n",
    "CREATE OR REPLACE TABLE hive_metastore.default.bloom_filter_demo (\n",
    "  record_id BIGINT NOT NULL,\n",
    "  key_with_bloom STRING NOT NULL,\n",
    "  key_without_bloom STRING NOT NULL\n",
    ")\n",
    "USING DELTA\n",
    "LOCATION '/mnt/databricks_external_stage_bloom/bloom_filter_demo/';"
   ]
  },
  {
   "cell_type": "code",
   "execution_count": 0,
   "metadata": {
    "application/vnd.databricks.v1+cell": {
     "cellMetadata": {
      "byteLimit": 2048000,
      "implicitDf": true,
      "rowLimit": 10000
     },
     "inputWidgets": {},
     "nuid": "695aa8f0-f12b-4bca-b19c-346e4bf5bee7",
     "showTitle": false,
     "tableResultSettingsMap": {},
     "title": ""
    }
   },
   "outputs": [
    {
     "output_type": "display_data",
     "data": {
      "text/html": [
       "<style scoped>\n",
       "  .table-result-container {\n",
       "    max-height: 300px;\n",
       "    overflow: auto;\n",
       "  }\n",
       "  table, th, td {\n",
       "    border: 1px solid black;\n",
       "    border-collapse: collapse;\n",
       "  }\n",
       "  th, td {\n",
       "    padding: 5px;\n",
       "  }\n",
       "  th {\n",
       "    text-align: left;\n",
       "  }\n",
       "</style><div class='table-result-container'><table class='table-result'><thead style='background-color: white'><tr></tr></thead><tbody></tbody></table></div>"
      ]
     },
     "metadata": {
      "application/vnd.databricks.v1+output": {
       "addedWidgets": {},
       "aggData": [],
       "aggError": "",
       "aggOverflow": false,
       "aggSchema": [],
       "aggSeriesLimitReached": false,
       "aggType": "",
       "arguments": {},
       "columnCustomDisplayInfos": {},
       "data": [],
       "datasetInfos": [],
       "dbfsResultPath": null,
       "isJsonSchema": true,
       "metadata": {
        "dataframeName": null
       },
       "overflow": false,
       "plotOptions": {
        "customPlotOptions": {},
        "displayType": "table",
        "pivotAggregation": null,
        "pivotColumns": null,
        "xColumns": null,
        "yColumns": null
       },
       "removedWidgets": [],
       "schema": [],
       "type": "table"
      }
     },
     "output_type": "display_data"
    }
   ],
   "source": [
    "%sql\n",
    "CREATE BLOOMFILTER INDEX\n",
    "ON TABLE hive_metastore.default.bloom_filter_demo\n",
    "FOR COLUMNS(key_with_bloom OPTIONS (fpp=0.1, numItems=100000));"
   ]
  },
  {
   "cell_type": "markdown",
   "metadata": {
    "application/vnd.databricks.v1+cell": {
     "cellMetadata": {},
     "inputWidgets": {},
     "nuid": "4e6325cb-0ab4-40b4-a485-44747addacdc",
     "showTitle": false,
     "tableResultSettingsMap": {},
     "title": ""
    }
   },
   "source": [
    "The fpp value in the parameters is short for false positive probability. This number\n",
    "sets a limit on what rate of false positives is acceptable during reads. A lower value\n",
    "increases the accuracy of the index but takes a little bit of a performance hit. This is\n",
    "because the fpp value determines how many bits are required for each element to be\n",
    "stored, so increasing the accuracy increases the size of the index itself."
   ]
  },
  {
   "cell_type": "code",
   "execution_count": 0,
   "metadata": {
    "application/vnd.databricks.v1+cell": {
     "cellMetadata": {
      "byteLimit": 2048000,
      "implicitDf": true,
      "rowLimit": 10000
     },
     "inputWidgets": {},
     "nuid": "e596d8f2-034f-4318-be74-d56ccb7c6e31",
     "showTitle": false,
     "tableResultSettingsMap": {},
     "title": ""
    }
   },
   "outputs": [
    {
     "output_type": "display_data",
     "data": {
      "text/html": [
       "<style scoped>\n",
       "  .table-result-container {\n",
       "    max-height: 300px;\n",
       "    overflow: auto;\n",
       "  }\n",
       "  table, th, td {\n",
       "    border: 1px solid black;\n",
       "    border-collapse: collapse;\n",
       "  }\n",
       "  th, td {\n",
       "    padding: 5px;\n",
       "  }\n",
       "  th {\n",
       "    text-align: left;\n",
       "  }\n",
       "</style><div class='table-result-container'><table class='table-result'><thead style='background-color: white'><tr><th>num_affected_rows</th><th>num_inserted_rows</th></tr></thead><tbody><tr><td>100000</td><td>100000</td></tr></tbody></table></div>"
      ]
     },
     "metadata": {
      "application/vnd.databricks.v1+output": {
       "addedWidgets": {},
       "aggData": [],
       "aggError": "",
       "aggOverflow": false,
       "aggSchema": [],
       "aggSeriesLimitReached": false,
       "aggType": "",
       "arguments": {},
       "columnCustomDisplayInfos": {},
       "data": [
        [
         100000,
         100000
        ]
       ],
       "datasetInfos": [],
       "dbfsResultPath": null,
       "isJsonSchema": true,
       "metadata": {
        "createTempViewForImplicitDf": true,
        "dataframeName": "_sqldf",
        "executionCount": 1
       },
       "overflow": false,
       "plotOptions": {
        "customPlotOptions": {},
        "displayType": "table",
        "pivotAggregation": null,
        "pivotColumns": null,
        "xColumns": null,
        "yColumns": null
       },
       "removedWidgets": [],
       "schema": [
        {
         "metadata": "{}",
         "name": "num_affected_rows",
         "type": "\"long\""
        },
        {
         "metadata": "{}",
         "name": "num_inserted_rows",
         "type": "\"long\""
        }
       ],
       "type": "table"
      }
     },
     "output_type": "display_data"
    }
   ],
   "source": [
    "%sql\n",
    "WITH data_gen AS (\n",
    "  SELECT\n",
    "    monotonically_increasing_id() AS record_id,\n",
    "    md5(cast(record_id as string)) AS key_with_bloom,  -- Using MD5 hash of a UUID\n",
    "    md5(cast(record_id as string)) AS key_without_bloom -- Generating the same value again\n",
    "  FROM RANGE(0, 100000, 1, 100)\n",
    ")\n",
    "INSERT INTO hive_metastore.default.bloom_filter_demo\n",
    "SELECT record_id, key_with_bloom, key_without_bloom\n",
    "FROM data_gen"
   ]
  },
  {
   "cell_type": "code",
   "execution_count": 0,
   "metadata": {
    "application/vnd.databricks.v1+cell": {
     "cellMetadata": {
      "byteLimit": 2048000,
      "implicitDf": true,
      "rowLimit": 10000
     },
     "inputWidgets": {},
     "nuid": "a963db93-61a3-4b42-82cf-ceceb1045968",
     "showTitle": false,
     "tableResultSettingsMap": {},
     "title": ""
    }
   },
   "outputs": [
    {
     "output_type": "display_data",
     "data": {
      "text/html": [
       "<style scoped>\n",
       "  .table-result-container {\n",
       "    max-height: 300px;\n",
       "    overflow: auto;\n",
       "  }\n",
       "  table, th, td {\n",
       "    border: 1px solid black;\n",
       "    border-collapse: collapse;\n",
       "  }\n",
       "  th, td {\n",
       "    padding: 5px;\n",
       "  }\n",
       "  th {\n",
       "    text-align: left;\n",
       "  }\n",
       "</style><div class='table-result-container'><table class='table-result'><thead style='background-color: white'><tr><th>record_id</th><th>key_with_bloom</th><th>key_without_bloom</th></tr></thead><tbody><tr><td>0</td><td>cfcd208495d565ef66e7dff9f98764da</td><td>cfcd208495d565ef66e7dff9f98764da</td></tr><tr><td>1</td><td>c4ca4238a0b923820dcc509a6f75849b</td><td>c4ca4238a0b923820dcc509a6f75849b</td></tr><tr><td>2</td><td>c81e728d9d4c2f636f067f89cc14862c</td><td>c81e728d9d4c2f636f067f89cc14862c</td></tr><tr><td>3</td><td>eccbc87e4b5ce2fe28308fd9f2a7baf3</td><td>eccbc87e4b5ce2fe28308fd9f2a7baf3</td></tr><tr><td>4</td><td>a87ff679a2f3e71d9181a67b7542122c</td><td>a87ff679a2f3e71d9181a67b7542122c</td></tr><tr><td>5</td><td>e4da3b7fbbce2345d7772b0674a318d5</td><td>e4da3b7fbbce2345d7772b0674a318d5</td></tr><tr><td>6</td><td>1679091c5a880faf6fb5e6087eb1b2dc</td><td>1679091c5a880faf6fb5e6087eb1b2dc</td></tr><tr><td>7</td><td>8f14e45fceea167a5a36dedd4bea2543</td><td>8f14e45fceea167a5a36dedd4bea2543</td></tr><tr><td>8</td><td>c9f0f895fb98ab9159f51fd0297e236d</td><td>c9f0f895fb98ab9159f51fd0297e236d</td></tr><tr><td>9</td><td>45c48cce2e2d7fbdea1afc51c7c6ad26</td><td>45c48cce2e2d7fbdea1afc51c7c6ad26</td></tr></tbody></table></div>"
      ]
     },
     "metadata": {
      "application/vnd.databricks.v1+output": {
       "addedWidgets": {},
       "aggData": [],
       "aggError": "",
       "aggOverflow": false,
       "aggSchema": [],
       "aggSeriesLimitReached": false,
       "aggType": "",
       "arguments": {},
       "columnCustomDisplayInfos": {},
       "data": [
        [
         0,
         "cfcd208495d565ef66e7dff9f98764da",
         "cfcd208495d565ef66e7dff9f98764da"
        ],
        [
         1,
         "c4ca4238a0b923820dcc509a6f75849b",
         "c4ca4238a0b923820dcc509a6f75849b"
        ],
        [
         2,
         "c81e728d9d4c2f636f067f89cc14862c",
         "c81e728d9d4c2f636f067f89cc14862c"
        ],
        [
         3,
         "eccbc87e4b5ce2fe28308fd9f2a7baf3",
         "eccbc87e4b5ce2fe28308fd9f2a7baf3"
        ],
        [
         4,
         "a87ff679a2f3e71d9181a67b7542122c",
         "a87ff679a2f3e71d9181a67b7542122c"
        ],
        [
         5,
         "e4da3b7fbbce2345d7772b0674a318d5",
         "e4da3b7fbbce2345d7772b0674a318d5"
        ],
        [
         6,
         "1679091c5a880faf6fb5e6087eb1b2dc",
         "1679091c5a880faf6fb5e6087eb1b2dc"
        ],
        [
         7,
         "8f14e45fceea167a5a36dedd4bea2543",
         "8f14e45fceea167a5a36dedd4bea2543"
        ],
        [
         8,
         "c9f0f895fb98ab9159f51fd0297e236d",
         "c9f0f895fb98ab9159f51fd0297e236d"
        ],
        [
         9,
         "45c48cce2e2d7fbdea1afc51c7c6ad26",
         "45c48cce2e2d7fbdea1afc51c7c6ad26"
        ]
       ],
       "datasetInfos": [],
       "dbfsResultPath": null,
       "isJsonSchema": true,
       "metadata": {
        "createTempViewForImplicitDf": true,
        "dataframeName": "_sqldf",
        "executionCount": 2
       },
       "overflow": false,
       "plotOptions": {
        "customPlotOptions": {},
        "displayType": "table",
        "pivotAggregation": null,
        "pivotColumns": null,
        "xColumns": null,
        "yColumns": null
       },
       "removedWidgets": [],
       "schema": [
        {
         "metadata": "{}",
         "name": "record_id",
         "type": "\"long\""
        },
        {
         "metadata": "{\"delta.bloomFilter.fpp\":0.1,\"delta.bloomFilter.numItems\":100000,\"delta.bloomFilter.maxExpectedFpp\":1.0,\"delta.bloomFilter.enabled\":true}",
         "name": "key_with_bloom",
         "type": "\"string\""
        },
        {
         "metadata": "{}",
         "name": "key_without_bloom",
         "type": "\"string\""
        }
       ],
       "type": "table"
      }
     },
     "output_type": "display_data"
    }
   ],
   "source": [
    "%sql \n",
    "SELECT * FROM hive_metastore.default.bloom_filter_demo limit 10;"
   ]
  },
  {
   "cell_type": "code",
   "execution_count": 0,
   "metadata": {
    "application/vnd.databricks.v1+cell": {
     "cellMetadata": {
      "byteLimit": 2048000,
      "implicitDf": true,
      "rowLimit": 10000
     },
     "inputWidgets": {},
     "nuid": "65754551-9db3-4708-8648-a50878adf9d6",
     "showTitle": false,
     "tableResultSettingsMap": {},
     "title": ""
    }
   },
   "outputs": [
    {
     "output_type": "display_data",
     "data": {
      "text/html": [
       "<style scoped>\n",
       "  .table-result-container {\n",
       "    max-height: 300px;\n",
       "    overflow: auto;\n",
       "  }\n",
       "  table, th, td {\n",
       "    border: 1px solid black;\n",
       "    border-collapse: collapse;\n",
       "  }\n",
       "  th, td {\n",
       "    padding: 5px;\n",
       "  }\n",
       "  th {\n",
       "    text-align: left;\n",
       "  }\n",
       "</style><div class='table-result-container'><table class='table-result'><thead style='background-color: white'><tr><th>record_id</th><th>key_with_bloom</th><th>key_without_bloom</th></tr></thead><tbody><tr><td>0</td><td>cfcd208495d565ef66e7dff9f98764da</td><td>cfcd208495d565ef66e7dff9f98764da</td></tr><tr><td>1</td><td>c4ca4238a0b923820dcc509a6f75849b</td><td>c4ca4238a0b923820dcc509a6f75849b</td></tr><tr><td>9</td><td>45c48cce2e2d7fbdea1afc51c7c6ad26</td><td>45c48cce2e2d7fbdea1afc51c7c6ad26</td></tr></tbody></table></div>"
      ]
     },
     "metadata": {
      "application/vnd.databricks.v1+output": {
       "addedWidgets": {},
       "aggData": [],
       "aggError": "",
       "aggOverflow": false,
       "aggSchema": [],
       "aggSeriesLimitReached": false,
       "aggType": "",
       "arguments": {},
       "columnCustomDisplayInfos": {},
       "data": [
        [
         0,
         "cfcd208495d565ef66e7dff9f98764da",
         "cfcd208495d565ef66e7dff9f98764da"
        ],
        [
         1,
         "c4ca4238a0b923820dcc509a6f75849b",
         "c4ca4238a0b923820dcc509a6f75849b"
        ],
        [
         9,
         "45c48cce2e2d7fbdea1afc51c7c6ad26",
         "45c48cce2e2d7fbdea1afc51c7c6ad26"
        ]
       ],
       "datasetInfos": [],
       "dbfsResultPath": null,
       "isJsonSchema": true,
       "metadata": {
        "createTempViewForImplicitDf": true,
        "dataframeName": "_sqldf",
        "executionCount": 4
       },
       "overflow": false,
       "plotOptions": {
        "customPlotOptions": {},
        "displayType": "table",
        "pivotAggregation": null,
        "pivotColumns": null,
        "xColumns": null,
        "yColumns": null
       },
       "removedWidgets": [],
       "schema": [
        {
         "metadata": "{}",
         "name": "record_id",
         "type": "\"long\""
        },
        {
         "metadata": "{\"delta.bloomFilter.fpp\":0.1,\"delta.bloomFilter.numItems\":100000,\"delta.bloomFilter.maxExpectedFpp\":1.0,\"delta.bloomFilter.enabled\":true}",
         "name": "key_with_bloom",
         "type": "\"string\""
        },
        {
         "metadata": "{}",
         "name": "key_without_bloom",
         "type": "\"string\""
        }
       ],
       "type": "table"
      }
     },
     "output_type": "display_data"
    }
   ],
   "source": [
    "%sql \n",
    "SELECT * FROM hive_metastore.default.bloom_filter_demo WHERE key_with_bloom IN ('cfcd208495d565ef66e7dff9f98764da','c4ca4238a0b923820dcc509a6f75849b','45c48cce2e2d7fbdea1afc51c7c6ad26')"
   ]
  },
  {
   "cell_type": "code",
   "execution_count": 0,
   "metadata": {
    "application/vnd.databricks.v1+cell": {
     "cellMetadata": {
      "byteLimit": 2048000,
      "implicitDf": true,
      "rowLimit": 10000
     },
     "inputWidgets": {},
     "nuid": "d04bc630-7022-47d3-8d30-8a354894b911",
     "showTitle": false,
     "tableResultSettingsMap": {},
     "title": ""
    }
   },
   "outputs": [
    {
     "output_type": "display_data",
     "data": {
      "text/html": [
       "<style scoped>\n",
       "  .table-result-container {\n",
       "    max-height: 300px;\n",
       "    overflow: auto;\n",
       "  }\n",
       "  table, th, td {\n",
       "    border: 1px solid black;\n",
       "    border-collapse: collapse;\n",
       "  }\n",
       "  th, td {\n",
       "    padding: 5px;\n",
       "  }\n",
       "  th {\n",
       "    text-align: left;\n",
       "  }\n",
       "</style><div class='table-result-container'><table class='table-result'><thead style='background-color: white'><tr><th>record_id</th><th>key_with_bloom</th><th>key_without_bloom</th></tr></thead><tbody><tr><td>0</td><td>cfcd208495d565ef66e7dff9f98764da</td><td>cfcd208495d565ef66e7dff9f98764da</td></tr><tr><td>1</td><td>c4ca4238a0b923820dcc509a6f75849b</td><td>c4ca4238a0b923820dcc509a6f75849b</td></tr><tr><td>9</td><td>45c48cce2e2d7fbdea1afc51c7c6ad26</td><td>45c48cce2e2d7fbdea1afc51c7c6ad26</td></tr></tbody></table></div>"
      ]
     },
     "metadata": {
      "application/vnd.databricks.v1+output": {
       "addedWidgets": {},
       "aggData": [],
       "aggError": "",
       "aggOverflow": false,
       "aggSchema": [],
       "aggSeriesLimitReached": false,
       "aggType": "",
       "arguments": {},
       "columnCustomDisplayInfos": {},
       "data": [
        [
         0,
         "cfcd208495d565ef66e7dff9f98764da",
         "cfcd208495d565ef66e7dff9f98764da"
        ],
        [
         1,
         "c4ca4238a0b923820dcc509a6f75849b",
         "c4ca4238a0b923820dcc509a6f75849b"
        ],
        [
         9,
         "45c48cce2e2d7fbdea1afc51c7c6ad26",
         "45c48cce2e2d7fbdea1afc51c7c6ad26"
        ]
       ],
       "datasetInfos": [],
       "dbfsResultPath": null,
       "isJsonSchema": true,
       "metadata": {
        "createTempViewForImplicitDf": true,
        "dataframeName": "_sqldf",
        "executionCount": 3
       },
       "overflow": false,
       "plotOptions": {
        "customPlotOptions": {},
        "displayType": "table",
        "pivotAggregation": null,
        "pivotColumns": null,
        "xColumns": null,
        "yColumns": null
       },
       "removedWidgets": [],
       "schema": [
        {
         "metadata": "{}",
         "name": "record_id",
         "type": "\"long\""
        },
        {
         "metadata": "{\"delta.bloomFilter.fpp\":0.1,\"delta.bloomFilter.numItems\":100000,\"delta.bloomFilter.maxExpectedFpp\":1.0,\"delta.bloomFilter.enabled\":true}",
         "name": "key_with_bloom",
         "type": "\"string\""
        },
        {
         "metadata": "{}",
         "name": "key_without_bloom",
         "type": "\"string\""
        }
       ],
       "type": "table"
      }
     },
     "output_type": "display_data"
    }
   ],
   "source": [
    "%sql \n",
    "SELECT * FROM hive_metastore.default.bloom_filter_demo WHERE key_without_bloom IN ('cfcd208495d565ef66e7dff9f98764da','c4ca4238a0b923820dcc509a6f75849b','45c48cce2e2d7fbdea1afc51c7c6ad26')"
   ]
  }
 ],
 "metadata": {
  "application/vnd.databricks.v1+notebook": {
   "computePreferences": null,
   "dashboards": [],
   "environmentMetadata": {
    "base_environment": "",
    "environment_version": "2"
   },
   "language": "python",
   "notebookMetadata": {
    "mostRecentlyExecutedCommandWithImplicitDF": {
     "commandId": 2709764810692340,
     "dataframes": [
      "_sqldf"
     ]
    },
    "pythonIndentUnit": 4
   },
   "notebookName": "Bloom Filter Demo",
   "widgets": {}
  },
  "language_info": {
   "name": "python"
  }
 },
 "nbformat": 4,
 "nbformat_minor": 0
}