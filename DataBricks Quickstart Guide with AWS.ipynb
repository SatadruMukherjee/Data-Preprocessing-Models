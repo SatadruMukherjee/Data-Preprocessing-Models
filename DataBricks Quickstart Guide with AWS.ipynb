{
 "cells": [
  {
   "cell_type": "markdown",
   "metadata": {
    "application/vnd.databricks.v1+cell": {
     "cellMetadata": {},
     "inputWidgets": {},
     "nuid": "47ae14a9-ef70-4349-87d2-af0dd880aae6",
     "showTitle": false,
     "tableResultSettingsMap": {},
     "title": ""
    }
   },
   "source": [
    "#Creating External Stage"
   ]
  },
  {
   "cell_type": "code",
   "execution_count": 0,
   "metadata": {
    "application/vnd.databricks.v1+cell": {
     "cellMetadata": {
      "byteLimit": 2048000,
      "rowLimit": 10000
     },
     "inputWidgets": {},
     "nuid": "1cfd3243-773b-441c-9414-878a91296686",
     "showTitle": false,
     "tableResultSettingsMap": {},
     "title": ""
    }
   },
   "outputs": [
    {
     "output_type": "execute_result",
     "data": {
      "text/plain": [
       "True"
      ]
     },
     "execution_count": 1,
     "metadata": {},
     "output_type": "execute_result"
    }
   ],
   "source": [
    "access_key =  \"\"\n",
    "secret_key = \"\"\n",
    "encoded_secret_key = secret_key.replace(\"/\", \"%2F\")\n",
    "aws_bucket_name = \"{}\"\n",
    "mount_name = \"databricks_external_stage\"\n",
    "\n",
    "dbutils.fs.mount(f\"s3a://{access_key}:{encoded_secret_key}@{aws_bucket_name}\", f\"/mnt/{mount_name}\")"
   ]
  },
  {
   "cell_type": "markdown",
   "metadata": {
    "application/vnd.databricks.v1+cell": {
     "cellMetadata": {},
     "inputWidgets": {},
     "nuid": "aaba93f6-1ce6-4e55-b92f-3acc04f0557c",
     "showTitle": false,
     "tableResultSettingsMap": {},
     "title": ""
    }
   },
   "source": [
    "## **List files in external stage**"
   ]
  },
  {
   "cell_type": "code",
   "execution_count": 0,
   "metadata": {
    "application/vnd.databricks.v1+cell": {
     "cellMetadata": {
      "byteLimit": 2048000,
      "rowLimit": 10000
     },
     "inputWidgets": {},
     "nuid": "ac150efe-83cd-4d85-a646-a7e76ce0c82d",
     "showTitle": false,
     "tableResultSettingsMap": {},
     "title": ""
    }
   },
   "outputs": [
    {
     "output_type": "display_data",
     "data": {
      "text/html": [
       "<style scoped>\n",
       "  .table-result-container {\n",
       "    max-height: 300px;\n",
       "    overflow: auto;\n",
       "  }\n",
       "  table, th, td {\n",
       "    border: 1px solid black;\n",
       "    border-collapse: collapse;\n",
       "  }\n",
       "  th, td {\n",
       "    padding: 5px;\n",
       "  }\n",
       "  th {\n",
       "    text-align: left;\n",
       "  }\n",
       "</style><div class='table-result-container'><table class='table-result'><thead style='background-color: white'><tr><th>path</th><th>name</th><th>size</th><th>modificationTime</th></tr></thead><tbody><tr><td>dbfs:/mnt/databricks_external_stage/input_folder/</td><td>input_folder/</td><td>0</td><td>1741672769989</td></tr><tr><td>dbfs:/mnt/databricks_external_stage/output_folder/</td><td>output_folder/</td><td>0</td><td>1741672769989</td></tr><tr><td>dbfs:/mnt/databricks_external_stage/product_reviews_input/</td><td>product_reviews_input/</td><td>0</td><td>1741672769989</td></tr><tr><td>dbfs:/mnt/databricks_external_stage/product_reviews_output/</td><td>product_reviews_output/</td><td>0</td><td>1741672769989</td></tr></tbody></table></div>"
      ]
     },
     "metadata": {
      "application/vnd.databricks.v1+output": {
       "addedWidgets": {},
       "aggData": [],
       "aggError": "",
       "aggOverflow": false,
       "aggSchema": [],
       "aggSeriesLimitReached": false,
       "aggType": "",
       "arguments": {},
       "columnCustomDisplayInfos": {},
       "data": [
        [
         "dbfs:/mnt/databricks_external_stage/input_folder/",
         "input_folder/",
         0,
         1741672769989
        ],
        [
         "dbfs:/mnt/databricks_external_stage/output_folder/",
         "output_folder/",
         0,
         1741672769989
        ],
        [
         "dbfs:/mnt/databricks_external_stage/product_reviews_input/",
         "product_reviews_input/",
         0,
         1741672769989
        ],
        [
         "dbfs:/mnt/databricks_external_stage/product_reviews_output/",
         "product_reviews_output/",
         0,
         1741672769989
        ]
       ],
       "datasetInfos": [],
       "dbfsResultPath": null,
       "isJsonSchema": true,
       "metadata": {},
       "overflow": false,
       "plotOptions": {
        "customPlotOptions": {},
        "displayType": "table",
        "pivotAggregation": null,
        "pivotColumns": null,
        "xColumns": null,
        "yColumns": null
       },
       "removedWidgets": [],
       "schema": [
        {
         "metadata": "{}",
         "name": "path",
         "type": "\"string\""
        },
        {
         "metadata": "{}",
         "name": "name",
         "type": "\"string\""
        },
        {
         "metadata": "{}",
         "name": "size",
         "type": "\"long\""
        },
        {
         "metadata": "{}",
         "name": "modificationTime",
         "type": "\"long\""
        }
       ],
       "type": "table"
      }
     },
     "output_type": "display_data"
    }
   ],
   "source": [
    "display(dbutils.fs.ls(f\"/mnt/databricks_external_stage\"))"
   ]
  },
  {
   "cell_type": "markdown",
   "metadata": {
    "application/vnd.databricks.v1+cell": {
     "cellMetadata": {},
     "inputWidgets": {},
     "nuid": "bfab0e92-ac5f-4e5a-bbd8-fda7afecc3b5",
     "showTitle": false,
     "tableResultSettingsMap": {},
     "title": ""
    }
   },
   "source": [
    "## **Recursive File Listing**"
   ]
  },
  {
   "cell_type": "code",
   "execution_count": 0,
   "metadata": {
    "application/vnd.databricks.v1+cell": {
     "cellMetadata": {
      "byteLimit": 2048000,
      "rowLimit": 10000
     },
     "inputWidgets": {},
     "nuid": "6ea4f89e-7d44-49f8-b3d1-938d8d05cd63",
     "showTitle": false,
     "tableResultSettingsMap": {},
     "title": ""
    }
   },
   "outputs": [
    {
     "output_type": "stream",
     "name": "stdout",
     "output_type": "stream",
     "text": [
      "dbfs:/mnt/databricks_external_stage/input_folder/\ndbfs:/mnt/databricks_external_stage/input_folder/Versicolor.csv\ndbfs:/mnt/databricks_external_stage/input_folder/Virginica.csv\ndbfs:/mnt/databricks_external_stage/output_folder/\ndbfs:/mnt/databricks_external_stage/product_reviews_input/\ndbfs:/mnt/databricks_external_stage/product_reviews_input/product_reviews.csv\ndbfs:/mnt/databricks_external_stage/product_reviews_output/\n"
     ]
    }
   ],
   "source": [
    "def list_files_recursive(path):\n",
    "    files = dbutils.fs.ls(path)\n",
    "    for file in files:\n",
    "        print(file.path)  # Print current file/folder\n",
    "        if file.isDir():  # If it's a directory, recurse into it\n",
    "            list_files_recursive(file.path)\n",
    "\n",
    "# Call function for the root path\n",
    "list_files_recursive(\"/mnt/databricks_external_stage\")"
   ]
  },
  {
   "cell_type": "code",
   "execution_count": 0,
   "metadata": {
    "application/vnd.databricks.v1+cell": {
     "cellMetadata": {
      "byteLimit": 2048000,
      "rowLimit": 10000
     },
     "inputWidgets": {},
     "nuid": "5defd51d-ffce-45f3-abb1-eb64c528d61a",
     "showTitle": false,
     "tableResultSettingsMap": {},
     "title": ""
    }
   },
   "outputs": [],
   "source": [
    "from pyspark.sql.functions import *\n",
    "from pyspark.sql.types import *"
   ]
  },
  {
   "cell_type": "code",
   "execution_count": 0,
   "metadata": {
    "application/vnd.databricks.v1+cell": {
     "cellMetadata": {
      "byteLimit": 2048000,
      "rowLimit": 10000
     },
     "inputWidgets": {},
     "nuid": "345c63d5-2119-41c8-9c2f-a371cb3e771a",
     "showTitle": false,
     "tableResultSettingsMap": {},
     "title": ""
    }
   },
   "outputs": [
    {
     "output_type": "stream",
     "name": "stdout",
     "output_type": "stream",
     "text": [
      "+---+------------+-----------+------------+-----------+---------------+\n|Id |SEPAL_LENGTH|SEPAL_WIDTH|PETAL_LENGTH|PETAL_WIDTH|CLASS_NAME     |\n+---+------------+-----------+------------+-----------+---------------+\n|1  |7.0         |3.2        |4.7         |1.4        |Iris-versicolor|\n|2  |6.4         |3.2        |4.5         |1.5        |Iris-versicolor|\n|3  |6.9         |3.1        |4.9         |1.5        |Iris-versicolor|\n|4  |5.5         |2.3        |4.0         |1.3        |Iris-versicolor|\n|5  |6.5         |2.8        |4.6         |1.5        |Iris-versicolor|\n|6  |5.7         |2.8        |4.5         |1.3        |Iris-versicolor|\n|7  |6.3         |3.3        |4.7         |1.6        |Iris-versicolor|\n|8  |4.9         |2.4        |3.3         |1.0        |Iris-versicolor|\n|9  |6.6         |2.9        |4.6         |1.3        |Iris-versicolor|\n|10 |5.2         |2.7        |3.9         |1.4        |Iris-versicolor|\n|11 |5.0         |2.0        |3.5         |1.0        |Iris-versicolor|\n|12 |5.9         |3.0        |4.0         |1.5        |Iris-versicolor|\n|13 |6.0         |2.2        |4.0         |1.0        |Iris-versicolor|\n|14 |6.1         |2.9        |4.7         |1.4        |Iris-versicolor|\n|15 |5.6         |2.9        |3.6         |1.3        |Iris-versicolor|\n|16 |6.7         |3.1        |4.4         |1.4        |Iris-versicolor|\n|17 |5.6         |3.0        |4.5         |1.5        |Iris-versicolor|\n|18 |5.8         |2.7        |4.1         |1.0        |Iris-versicolor|\n|19 |6.2         |2.2        |4.5         |1.5        |Iris-versicolor|\n|20 |5.6         |2.5        |3.9         |1.1        |Iris-versicolor|\n+---+------------+-----------+------------+-----------+---------------+\nonly showing top 20 rows\n\n"
     ]
    }
   ],
   "source": [
    "df=spark.read.format('csv').option('header',True).option('inferSchema',True).load('/mnt/databricks_external_stage/input_folder/')\n",
    "df.show(truncate=False)"
   ]
  },
  {
   "cell_type": "code",
   "execution_count": 0,
   "metadata": {
    "application/vnd.databricks.v1+cell": {
     "cellMetadata": {
      "byteLimit": 2048000,
      "rowLimit": 10000
     },
     "inputWidgets": {},
     "nuid": "fe77e719-c8f4-4b8b-91ec-59bba0bb7509",
     "showTitle": false,
     "tableResultSettingsMap": {},
     "title": ""
    }
   },
   "outputs": [
    {
     "output_type": "stream",
     "name": "stdout",
     "output_type": "stream",
     "text": [
      "+---------------------------------------------------------------+\n|input_file_name()                                              |\n+---------------------------------------------------------------+\n|dbfs:/mnt/databricks_external_stage/input_folder/Versicolor.csv|\n|dbfs:/mnt/databricks_external_stage/input_folder/Virginica.csv |\n+---------------------------------------------------------------+\n\n"
     ]
    }
   ],
   "source": [
    "df.select(input_file_name()).distinct().show(truncate=False)"
   ]
  },
  {
   "cell_type": "code",
   "execution_count": 0,
   "metadata": {
    "application/vnd.databricks.v1+cell": {
     "cellMetadata": {
      "byteLimit": 2048000,
      "rowLimit": 10000
     },
     "inputWidgets": {},
     "nuid": "5c3b8ecc-f4e0-4803-bbb1-77a60e5f12a6",
     "showTitle": false,
     "tableResultSettingsMap": {},
     "title": ""
    }
   },
   "outputs": [],
   "source": [
    "df.write.format(\"delta\").mode(\"append\").option(\"path\",\"/mnt/databricks_external_stage/output_folder/\").saveAsTable(f\"hive_metastore.default.delta_table_1\")\n"
   ]
  },
  {
   "cell_type": "code",
   "execution_count": 0,
   "metadata": {
    "application/vnd.databricks.v1+cell": {
     "cellMetadata": {
      "byteLimit": 2048000,
      "implicitDf": true,
      "rowLimit": 10000
     },
     "inputWidgets": {},
     "nuid": "d1e0b3dc-1197-48d0-9044-2f63f99c68e6",
     "showTitle": false,
     "tableResultSettingsMap": {},
     "title": ""
    }
   },
   "outputs": [
    {
     "output_type": "display_data",
     "data": {
      "text/html": [
       "<style scoped>\n",
       "  .table-result-container {\n",
       "    max-height: 300px;\n",
       "    overflow: auto;\n",
       "  }\n",
       "  table, th, td {\n",
       "    border: 1px solid black;\n",
       "    border-collapse: collapse;\n",
       "  }\n",
       "  th, td {\n",
       "    padding: 5px;\n",
       "  }\n",
       "  th {\n",
       "    text-align: left;\n",
       "  }\n",
       "</style><div class='table-result-container'><table class='table-result'><thead style='background-color: white'><tr><th>Id</th><th>SEPAL_LENGTH</th><th>SEPAL_WIDTH</th><th>PETAL_LENGTH</th><th>PETAL_WIDTH</th><th>CLASS_NAME</th></tr></thead><tbody><tr><td>1</td><td>7.0</td><td>3.2</td><td>4.7</td><td>1.4</td><td>Iris-versicolor</td></tr><tr><td>2</td><td>6.4</td><td>3.2</td><td>4.5</td><td>1.5</td><td>Iris-versicolor</td></tr><tr><td>3</td><td>6.9</td><td>3.1</td><td>4.9</td><td>1.5</td><td>Iris-versicolor</td></tr><tr><td>4</td><td>5.5</td><td>2.3</td><td>4.0</td><td>1.3</td><td>Iris-versicolor</td></tr><tr><td>5</td><td>6.5</td><td>2.8</td><td>4.6</td><td>1.5</td><td>Iris-versicolor</td></tr><tr><td>6</td><td>5.7</td><td>2.8</td><td>4.5</td><td>1.3</td><td>Iris-versicolor</td></tr><tr><td>7</td><td>6.3</td><td>3.3</td><td>4.7</td><td>1.6</td><td>Iris-versicolor</td></tr><tr><td>8</td><td>4.9</td><td>2.4</td><td>3.3</td><td>1.0</td><td>Iris-versicolor</td></tr><tr><td>9</td><td>6.6</td><td>2.9</td><td>4.6</td><td>1.3</td><td>Iris-versicolor</td></tr><tr><td>10</td><td>5.2</td><td>2.7</td><td>3.9</td><td>1.4</td><td>Iris-versicolor</td></tr></tbody></table></div>"
      ]
     },
     "metadata": {
      "application/vnd.databricks.v1+output": {
       "addedWidgets": {},
       "aggData": [],
       "aggError": "",
       "aggOverflow": false,
       "aggSchema": [],
       "aggSeriesLimitReached": false,
       "aggType": "",
       "arguments": {},
       "columnCustomDisplayInfos": {},
       "data": [
        [
         1,
         7.0,
         3.2,
         4.7,
         1.4,
         "Iris-versicolor"
        ],
        [
         2,
         6.4,
         3.2,
         4.5,
         1.5,
         "Iris-versicolor"
        ],
        [
         3,
         6.9,
         3.1,
         4.9,
         1.5,
         "Iris-versicolor"
        ],
        [
         4,
         5.5,
         2.3,
         4.0,
         1.3,
         "Iris-versicolor"
        ],
        [
         5,
         6.5,
         2.8,
         4.6,
         1.5,
         "Iris-versicolor"
        ],
        [
         6,
         5.7,
         2.8,
         4.5,
         1.3,
         "Iris-versicolor"
        ],
        [
         7,
         6.3,
         3.3,
         4.7,
         1.6,
         "Iris-versicolor"
        ],
        [
         8,
         4.9,
         2.4,
         3.3,
         1.0,
         "Iris-versicolor"
        ],
        [
         9,
         6.6,
         2.9,
         4.6,
         1.3,
         "Iris-versicolor"
        ],
        [
         10,
         5.2,
         2.7,
         3.9,
         1.4,
         "Iris-versicolor"
        ]
       ],
       "datasetInfos": [],
       "dbfsResultPath": null,
       "isJsonSchema": true,
       "metadata": {
        "createTempViewForImplicitDf": true,
        "dataframeName": "_sqldf",
        "executionCount": 8
       },
       "overflow": false,
       "plotOptions": {
        "customPlotOptions": {},
        "displayType": "table",
        "pivotAggregation": null,
        "pivotColumns": null,
        "xColumns": null,
        "yColumns": null
       },
       "removedWidgets": [],
       "schema": [
        {
         "metadata": "{}",
         "name": "Id",
         "type": "\"integer\""
        },
        {
         "metadata": "{}",
         "name": "SEPAL_LENGTH",
         "type": "\"double\""
        },
        {
         "metadata": "{}",
         "name": "SEPAL_WIDTH",
         "type": "\"double\""
        },
        {
         "metadata": "{}",
         "name": "PETAL_LENGTH",
         "type": "\"double\""
        },
        {
         "metadata": "{}",
         "name": "PETAL_WIDTH",
         "type": "\"double\""
        },
        {
         "metadata": "{}",
         "name": "CLASS_NAME",
         "type": "\"string\""
        }
       ],
       "type": "table"
      }
     },
     "output_type": "display_data"
    }
   ],
   "source": [
    "%sql\n",
    "select * from hive_metastore.default.delta_table_1 limit 10;"
   ]
  },
  {
   "cell_type": "code",
   "execution_count": 0,
   "metadata": {
    "application/vnd.databricks.v1+cell": {
     "cellMetadata": {
      "byteLimit": 2048000,
      "implicitDf": true,
      "rowLimit": 10000
     },
     "inputWidgets": {},
     "nuid": "18740649-7621-4045-9b47-950db4515ef8",
     "showTitle": false,
     "tableResultSettingsMap": {},
     "title": ""
    }
   },
   "outputs": [
    {
     "output_type": "display_data",
     "data": {
      "text/html": [
       "<style scoped>\n",
       "  .table-result-container {\n",
       "    max-height: 300px;\n",
       "    overflow: auto;\n",
       "  }\n",
       "  table, th, td {\n",
       "    border: 1px solid black;\n",
       "    border-collapse: collapse;\n",
       "  }\n",
       "  th, td {\n",
       "    padding: 5px;\n",
       "  }\n",
       "  th {\n",
       "    text-align: left;\n",
       "  }\n",
       "</style><div class='table-result-container'><table class='table-result'><thead style='background-color: white'><tr><th>count(1)</th></tr></thead><tbody><tr><td>101</td></tr></tbody></table></div>"
      ]
     },
     "metadata": {
      "application/vnd.databricks.v1+output": {
       "addedWidgets": {},
       "aggData": [],
       "aggError": "",
       "aggOverflow": false,
       "aggSchema": [],
       "aggSeriesLimitReached": false,
       "aggType": "",
       "arguments": {},
       "columnCustomDisplayInfos": {},
       "data": [
        [
         101
        ]
       ],
       "datasetInfos": [],
       "dbfsResultPath": null,
       "isJsonSchema": true,
       "metadata": {
        "createTempViewForImplicitDf": true,
        "dataframeName": "_sqldf",
        "executionCount": 10
       },
       "overflow": false,
       "plotOptions": {
        "customPlotOptions": {},
        "displayType": "table",
        "pivotAggregation": null,
        "pivotColumns": null,
        "xColumns": null,
        "yColumns": null
       },
       "removedWidgets": [],
       "schema": [
        {
         "metadata": "{\"__autoGeneratedAlias\":\"true\"}",
         "name": "count(1)",
         "type": "\"long\""
        }
       ],
       "type": "table"
      }
     },
     "output_type": "display_data"
    }
   ],
   "source": [
    "%sql\n",
    "select count(*) from hive_metastore.default.delta_table_1;"
   ]
  },
  {
   "cell_type": "code",
   "execution_count": 0,
   "metadata": {
    "application/vnd.databricks.v1+cell": {
     "cellMetadata": {
      "byteLimit": 2048000,
      "implicitDf": true,
      "rowLimit": 10000
     },
     "inputWidgets": {},
     "nuid": "781eaa9d-f8c0-4589-8a4e-603ec4324594",
     "showTitle": false,
     "tableResultSettingsMap": {},
     "title": ""
    }
   },
   "outputs": [
    {
     "output_type": "display_data",
     "data": {
      "text/html": [
       "<style scoped>\n",
       "  .table-result-container {\n",
       "    max-height: 300px;\n",
       "    overflow: auto;\n",
       "  }\n",
       "  table, th, td {\n",
       "    border: 1px solid black;\n",
       "    border-collapse: collapse;\n",
       "  }\n",
       "  th, td {\n",
       "    padding: 5px;\n",
       "  }\n",
       "  th {\n",
       "    text-align: left;\n",
       "  }\n",
       "</style><div class='table-result-container'><table class='table-result'><thead style='background-color: white'><tr><th>num_affected_rows</th></tr></thead><tbody><tr><td>101</td></tr></tbody></table></div>"
      ]
     },
     "metadata": {
      "application/vnd.databricks.v1+output": {
       "addedWidgets": {},
       "aggData": [],
       "aggError": "",
       "aggOverflow": false,
       "aggSchema": [],
       "aggSeriesLimitReached": false,
       "aggType": "",
       "arguments": {},
       "columnCustomDisplayInfos": {},
       "data": [
        [
         101
        ]
       ],
       "datasetInfos": [],
       "dbfsResultPath": null,
       "isJsonSchema": true,
       "metadata": {
        "createTempViewForImplicitDf": true,
        "dataframeName": "_sqldf",
        "executionCount": 9
       },
       "overflow": false,
       "plotOptions": {
        "customPlotOptions": {},
        "displayType": "table",
        "pivotAggregation": null,
        "pivotColumns": null,
        "xColumns": null,
        "yColumns": null
       },
       "removedWidgets": [],
       "schema": [
        {
         "metadata": "{}",
         "name": "num_affected_rows",
         "type": "\"long\""
        }
       ],
       "type": "table"
      }
     },
     "output_type": "display_data"
    }
   ],
   "source": [
    "%sql\n",
    "update hive_metastore.default.delta_table_1 set CLASS_NAME=upper(CLASS_NAME);"
   ]
  },
  {
   "cell_type": "code",
   "execution_count": 0,
   "metadata": {
    "application/vnd.databricks.v1+cell": {
     "cellMetadata": {
      "byteLimit": 2048000,
      "implicitDf": true,
      "rowLimit": 10000
     },
     "inputWidgets": {},
     "nuid": "31cd10f9-8de0-47fc-a394-aa6c6a57aa0f",
     "showTitle": false,
     "tableResultSettingsMap": {},
     "title": ""
    }
   },
   "outputs": [
    {
     "output_type": "display_data",
     "data": {
      "text/html": [
       "<style scoped>\n",
       "  .table-result-container {\n",
       "    max-height: 300px;\n",
       "    overflow: auto;\n",
       "  }\n",
       "  table, th, td {\n",
       "    border: 1px solid black;\n",
       "    border-collapse: collapse;\n",
       "  }\n",
       "  th, td {\n",
       "    padding: 5px;\n",
       "  }\n",
       "  th {\n",
       "    text-align: left;\n",
       "  }\n",
       "</style><div class='table-result-container'><table class='table-result'><thead style='background-color: white'><tr><th>Id</th><th>SEPAL_LENGTH</th><th>SEPAL_WIDTH</th><th>PETAL_LENGTH</th><th>PETAL_WIDTH</th><th>CLASS_NAME</th></tr></thead><tbody><tr><td>1</td><td>6.3</td><td>3.3</td><td>6.0</td><td>2.5</td><td>IRIS-VIRGINICA</td></tr><tr><td>2</td><td>5.8</td><td>2.7</td><td>5.1</td><td>1.9</td><td>IRIS-VIRGINICA</td></tr><tr><td>3</td><td>7.1</td><td>3.0</td><td>5.9</td><td>2.1</td><td>IRIS-VIRGINICA</td></tr><tr><td>4</td><td>6.3</td><td>2.9</td><td>5.6</td><td>1.8</td><td>IRIS-VIRGINICA</td></tr><tr><td>5</td><td>6.5</td><td>3.0</td><td>5.8</td><td>2.2</td><td>IRIS-VIRGINICA</td></tr><tr><td>6</td><td>7.6</td><td>3.0</td><td>6.6</td><td>2.1</td><td>IRIS-VIRGINICA</td></tr><tr><td>7</td><td>4.9</td><td>2.5</td><td>4.5</td><td>1.7</td><td>IRIS-VIRGINICA</td></tr><tr><td>8</td><td>7.3</td><td>2.9</td><td>6.3</td><td>1.8</td><td>IRIS-VIRGINICA</td></tr><tr><td>9</td><td>6.7</td><td>2.5</td><td>5.8</td><td>1.8</td><td>IRIS-VIRGINICA</td></tr><tr><td>10</td><td>7.2</td><td>3.6</td><td>6.1</td><td>2.5</td><td>IRIS-VIRGINICA</td></tr></tbody></table></div>"
      ]
     },
     "metadata": {
      "application/vnd.databricks.v1+output": {
       "addedWidgets": {},
       "aggData": [],
       "aggError": "",
       "aggOverflow": false,
       "aggSchema": [],
       "aggSeriesLimitReached": false,
       "aggType": "",
       "arguments": {},
       "columnCustomDisplayInfos": {},
       "data": [
        [
         1,
         6.3,
         3.3,
         6.0,
         2.5,
         "IRIS-VIRGINICA"
        ],
        [
         2,
         5.8,
         2.7,
         5.1,
         1.9,
         "IRIS-VIRGINICA"
        ],
        [
         3,
         7.1,
         3.0,
         5.9,
         2.1,
         "IRIS-VIRGINICA"
        ],
        [
         4,
         6.3,
         2.9,
         5.6,
         1.8,
         "IRIS-VIRGINICA"
        ],
        [
         5,
         6.5,
         3.0,
         5.8,
         2.2,
         "IRIS-VIRGINICA"
        ],
        [
         6,
         7.6,
         3.0,
         6.6,
         2.1,
         "IRIS-VIRGINICA"
        ],
        [
         7,
         4.9,
         2.5,
         4.5,
         1.7,
         "IRIS-VIRGINICA"
        ],
        [
         8,
         7.3,
         2.9,
         6.3,
         1.8,
         "IRIS-VIRGINICA"
        ],
        [
         9,
         6.7,
         2.5,
         5.8,
         1.8,
         "IRIS-VIRGINICA"
        ],
        [
         10,
         7.2,
         3.6,
         6.1,
         2.5,
         "IRIS-VIRGINICA"
        ]
       ],
       "datasetInfos": [],
       "dbfsResultPath": null,
       "isJsonSchema": true,
       "metadata": {
        "createTempViewForImplicitDf": true,
        "dataframeName": "_sqldf",
        "executionCount": 11
       },
       "overflow": false,
       "plotOptions": {
        "customPlotOptions": {},
        "displayType": "table",
        "pivotAggregation": null,
        "pivotColumns": null,
        "xColumns": null,
        "yColumns": null
       },
       "removedWidgets": [],
       "schema": [
        {
         "metadata": "{}",
         "name": "Id",
         "type": "\"integer\""
        },
        {
         "metadata": "{}",
         "name": "SEPAL_LENGTH",
         "type": "\"double\""
        },
        {
         "metadata": "{}",
         "name": "SEPAL_WIDTH",
         "type": "\"double\""
        },
        {
         "metadata": "{}",
         "name": "PETAL_LENGTH",
         "type": "\"double\""
        },
        {
         "metadata": "{}",
         "name": "PETAL_WIDTH",
         "type": "\"double\""
        },
        {
         "metadata": "{}",
         "name": "CLASS_NAME",
         "type": "\"string\""
        }
       ],
       "type": "table"
      }
     },
     "output_type": "display_data"
    }
   ],
   "source": [
    "%sql\n",
    "select * from hive_metastore.default.delta_table_1 limit 10;"
   ]
  },
  {
   "cell_type": "code",
   "execution_count": 0,
   "metadata": {
    "application/vnd.databricks.v1+cell": {
     "cellMetadata": {
      "byteLimit": 2048000,
      "implicitDf": true,
      "rowLimit": 10000
     },
     "inputWidgets": {},
     "nuid": "b90fb99b-61ab-48a3-8f47-2dc16acd65fa",
     "showTitle": false,
     "tableResultSettingsMap": {},
     "title": ""
    }
   },
   "outputs": [
    {
     "output_type": "display_data",
     "data": {
      "text/html": [
       "<style scoped>\n",
       "  .table-result-container {\n",
       "    max-height: 300px;\n",
       "    overflow: auto;\n",
       "  }\n",
       "  table, th, td {\n",
       "    border: 1px solid black;\n",
       "    border-collapse: collapse;\n",
       "  }\n",
       "  th, td {\n",
       "    padding: 5px;\n",
       "  }\n",
       "  th {\n",
       "    text-align: left;\n",
       "  }\n",
       "</style><div class='table-result-container'><table class='table-result'><thead style='background-color: white'><tr></tr></thead><tbody></tbody></table></div>"
      ]
     },
     "metadata": {
      "application/vnd.databricks.v1+output": {
       "addedWidgets": {},
       "aggData": [],
       "aggError": "",
       "aggOverflow": false,
       "aggSchema": [],
       "aggSeriesLimitReached": false,
       "aggType": "",
       "arguments": {},
       "columnCustomDisplayInfos": {},
       "data": [],
       "datasetInfos": [],
       "dbfsResultPath": null,
       "isJsonSchema": true,
       "metadata": {
        "dataframeName": null
       },
       "overflow": false,
       "plotOptions": {
        "customPlotOptions": {},
        "displayType": "table",
        "pivotAggregation": null,
        "pivotColumns": null,
        "xColumns": null,
        "yColumns": null
       },
       "removedWidgets": [],
       "schema": [],
       "type": "table"
      }
     },
     "output_type": "display_data"
    }
   ],
   "source": [
    "%sql\n",
    "--drop table hive_metastore.default.reviews;\n",
    "CREATE EXTERNAL TABLE hive_metastore.default.reviews (\n",
    "    ID STRING,\n",
    "    Product_Name STRING,\n",
    "    Product_ID STRING,\n",
    "    Reviewer_Name STRING,\n",
    "    Review_Date DATE,\n",
    "    Review STRING\n",
    ")\n",
    "USING com.databricks.spark.csv\n",
    "OPTIONS (header \"true\")\n",
    "LOCATION '/mnt/databricks_external_stage/product_reviews_input/';\n"
   ]
  },
  {
   "cell_type": "code",
   "execution_count": 0,
   "metadata": {
    "application/vnd.databricks.v1+cell": {
     "cellMetadata": {
      "byteLimit": 2048000,
      "implicitDf": true,
      "rowLimit": 10000
     },
     "inputWidgets": {},
     "nuid": "f414c6cf-d68c-4048-96e3-75804015a0f2",
     "showTitle": false,
     "tableResultSettingsMap": {},
     "title": ""
    }
   },
   "outputs": [
    {
     "output_type": "display_data",
     "data": {
      "text/html": [
       "<style scoped>\n",
       "  .table-result-container {\n",
       "    max-height: 300px;\n",
       "    overflow: auto;\n",
       "  }\n",
       "  table, th, td {\n",
       "    border: 1px solid black;\n",
       "    border-collapse: collapse;\n",
       "  }\n",
       "  th, td {\n",
       "    padding: 5px;\n",
       "  }\n",
       "  th {\n",
       "    text-align: left;\n",
       "  }\n",
       "</style><div class='table-result-container'><table class='table-result'><thead style='background-color: white'><tr><th>ID</th><th>Product_Name</th><th>Product_ID</th><th>Reviewer_Name</th><th>Review_Date</th><th>Review</th></tr></thead><tbody><tr><td>1</td><td>Wireless Mouse</td><td>P001</td><td>Alice Johnson</td><td>2024-03-01</td><td>Great mouse! Smooth performance and excellent battery life. Highly recommend.</td></tr><tr><td>2</td><td>Bluetooth Speaker</td><td>P002</td><td>John Doe</td><td>2024-03-05</td><td>Decent sound quality, but the bass is weak. Expected better for the price.</td></tr><tr><td>3</td><td>Mechanical Keyboard</td><td>P003</td><td>Sarah Lee</td><td>2024-03-10</td><td>Fantastic keyboard! The tactile feedback is amazing. Perfect for gaming.</td></tr><tr><td>4</td><td>Noise Cancelling Headphones</td><td>P004</td><td>Mike Brown</td><td>2024-03-15</td><td>Noise cancellation is good, but the ear cups are a bit uncomfortable for long use.</td></tr><tr><td>5</td><td>Smartwatch</td><td>P005</td><td>Emma Wilson</td><td>2024-03-20</td><td>Very stylish and feature-rich. Battery life could be better, but still a great buy!</td></tr></tbody></table></div>"
      ]
     },
     "metadata": {
      "application/vnd.databricks.v1+output": {
       "addedWidgets": {},
       "aggData": [],
       "aggError": "",
       "aggOverflow": false,
       "aggSchema": [],
       "aggSeriesLimitReached": false,
       "aggType": "",
       "arguments": {},
       "columnCustomDisplayInfos": {},
       "data": [
        [
         "1",
         "Wireless Mouse",
         "P001",
         "Alice Johnson",
         "2024-03-01",
         "Great mouse! Smooth performance and excellent battery life. Highly recommend."
        ],
        [
         "2",
         "Bluetooth Speaker",
         "P002",
         "John Doe",
         "2024-03-05",
         "Decent sound quality, but the bass is weak. Expected better for the price."
        ],
        [
         "3",
         "Mechanical Keyboard",
         "P003",
         "Sarah Lee",
         "2024-03-10",
         "Fantastic keyboard! The tactile feedback is amazing. Perfect for gaming."
        ],
        [
         "4",
         "Noise Cancelling Headphones",
         "P004",
         "Mike Brown",
         "2024-03-15",
         "Noise cancellation is good, but the ear cups are a bit uncomfortable for long use."
        ],
        [
         "5",
         "Smartwatch",
         "P005",
         "Emma Wilson",
         "2024-03-20",
         "Very stylish and feature-rich. Battery life could be better, but still a great buy!"
        ]
       ],
       "datasetInfos": [],
       "dbfsResultPath": null,
       "isJsonSchema": true,
       "metadata": {
        "createTempViewForImplicitDf": true,
        "dataframeName": "_sqldf",
        "executionCount": 12
       },
       "overflow": false,
       "plotOptions": {
        "customPlotOptions": {},
        "displayType": "table",
        "pivotAggregation": null,
        "pivotColumns": null,
        "xColumns": null,
        "yColumns": null
       },
       "removedWidgets": [],
       "schema": [
        {
         "metadata": "{}",
         "name": "ID",
         "type": "\"string\""
        },
        {
         "metadata": "{}",
         "name": "Product_Name",
         "type": "\"string\""
        },
        {
         "metadata": "{}",
         "name": "Product_ID",
         "type": "\"string\""
        },
        {
         "metadata": "{}",
         "name": "Reviewer_Name",
         "type": "\"string\""
        },
        {
         "metadata": "{}",
         "name": "Review_Date",
         "type": "\"date\""
        },
        {
         "metadata": "{}",
         "name": "Review",
         "type": "\"string\""
        }
       ],
       "type": "table"
      }
     },
     "output_type": "display_data"
    }
   ],
   "source": [
    "%sql\n",
    "select * from hive_metastore.default.reviews limit 10"
   ]
  },
  {
   "cell_type": "code",
   "execution_count": 0,
   "metadata": {
    "application/vnd.databricks.v1+cell": {
     "cellMetadata": {
      "byteLimit": 2048000,
      "implicitDf": true,
      "rowLimit": 10000
     },
     "inputWidgets": {},
     "nuid": "180cb602-d946-4b3c-843d-8d85bdfa0bd7",
     "showTitle": false,
     "tableResultSettingsMap": {},
     "title": ""
    }
   },
   "outputs": [
    {
     "output_type": "display_data",
     "data": {
      "text/html": [
       "<style scoped>\n",
       "  .table-result-container {\n",
       "    max-height: 300px;\n",
       "    overflow: auto;\n",
       "  }\n",
       "  table, th, td {\n",
       "    border: 1px solid black;\n",
       "    border-collapse: collapse;\n",
       "  }\n",
       "  th, td {\n",
       "    padding: 5px;\n",
       "  }\n",
       "  th {\n",
       "    text-align: left;\n",
       "  }\n",
       "</style><div class='table-result-container'><table class='table-result'><thead style='background-color: white'><tr><th>ai_analyze_sentiment(I am happy)</th></tr></thead><tbody><tr><td>positive</td></tr></tbody></table></div>"
      ]
     },
     "metadata": {
      "application/vnd.databricks.v1+output": {
       "addedWidgets": {},
       "aggData": [],
       "aggError": "",
       "aggOverflow": false,
       "aggSchema": [],
       "aggSeriesLimitReached": false,
       "aggType": "",
       "arguments": {},
       "columnCustomDisplayInfos": {},
       "data": [
        [
         "positive"
        ]
       ],
       "datasetInfos": [],
       "dbfsResultPath": null,
       "isJsonSchema": true,
       "metadata": {
        "createTempViewForImplicitDf": true,
        "dataframeName": "_sqldf",
        "executionCount": 13
       },
       "overflow": false,
       "plotOptions": {
        "customPlotOptions": {},
        "displayType": "table",
        "pivotAggregation": null,
        "pivotColumns": null,
        "xColumns": null,
        "yColumns": null
       },
       "removedWidgets": [],
       "schema": [
        {
         "metadata": "{\"__autoGeneratedAlias\":\"true\"}",
         "name": "ai_analyze_sentiment(I am happy)",
         "type": "\"string\""
        }
       ],
       "type": "table"
      }
     },
     "output_type": "display_data"
    }
   ],
   "source": [
    "%sql\n",
    "SELECT ai_analyze_sentiment('I am happy');"
   ]
  },
  {
   "cell_type": "code",
   "execution_count": 0,
   "metadata": {
    "application/vnd.databricks.v1+cell": {
     "cellMetadata": {
      "byteLimit": 2048000,
      "implicitDf": true,
      "rowLimit": 10000
     },
     "inputWidgets": {},
     "nuid": "04b894aa-858e-421c-bd7d-3fd88dbd63ce",
     "showTitle": false,
     "tableResultSettingsMap": {},
     "title": ""
    }
   },
   "outputs": [
    {
     "output_type": "display_data",
     "data": {
      "text/html": [
       "<style scoped>\n",
       "  .table-result-container {\n",
       "    max-height: 300px;\n",
       "    overflow: auto;\n",
       "  }\n",
       "  table, th, td {\n",
       "    border: 1px solid black;\n",
       "    border-collapse: collapse;\n",
       "  }\n",
       "  th, td {\n",
       "    padding: 5px;\n",
       "  }\n",
       "  th {\n",
       "    text-align: left;\n",
       "  }\n",
       "</style><div class='table-result-container'><table class='table-result'><thead style='background-color: white'><tr><th>ai_analyze_sentiment(It's very bad weather outside)</th></tr></thead><tbody><tr><td>negative</td></tr></tbody></table></div>"
      ]
     },
     "metadata": {
      "application/vnd.databricks.v1+output": {
       "addedWidgets": {},
       "aggData": [],
       "aggError": "",
       "aggOverflow": false,
       "aggSchema": [],
       "aggSeriesLimitReached": false,
       "aggType": "",
       "arguments": {},
       "columnCustomDisplayInfos": {},
       "data": [
        [
         "negative"
        ]
       ],
       "datasetInfos": [],
       "dbfsResultPath": null,
       "isJsonSchema": true,
       "metadata": {
        "createTempViewForImplicitDf": true,
        "dataframeName": "_sqldf",
        "executionCount": 14
       },
       "overflow": false,
       "plotOptions": {
        "customPlotOptions": {},
        "displayType": "table",
        "pivotAggregation": null,
        "pivotColumns": null,
        "xColumns": null,
        "yColumns": null
       },
       "removedWidgets": [],
       "schema": [
        {
         "metadata": "{\"__autoGeneratedAlias\":\"true\"}",
         "name": "ai_analyze_sentiment(It's very bad weather outside)",
         "type": "\"string\""
        }
       ],
       "type": "table"
      }
     },
     "output_type": "display_data"
    }
   ],
   "source": [
    "%sql\n",
    "SELECT ai_analyze_sentiment(\"It's very bad weather outside\");"
   ]
  },
  {
   "cell_type": "code",
   "execution_count": 0,
   "metadata": {
    "application/vnd.databricks.v1+cell": {
     "cellMetadata": {
      "byteLimit": 2048000,
      "implicitDf": true,
      "rowLimit": 10000
     },
     "inputWidgets": {},
     "nuid": "ef6c17f6-112b-4a00-9891-f1034b3e74ba",
     "showTitle": false,
     "tableResultSettingsMap": {},
     "title": ""
    }
   },
   "outputs": [
    {
     "output_type": "display_data",
     "data": {
      "text/html": [
       "<style scoped>\n",
       "  .table-result-container {\n",
       "    max-height: 300px;\n",
       "    overflow: auto;\n",
       "  }\n",
       "  table, th, td {\n",
       "    border: 1px solid black;\n",
       "    border-collapse: collapse;\n",
       "  }\n",
       "  th, td {\n",
       "    padding: 5px;\n",
       "  }\n",
       "  th {\n",
       "    text-align: left;\n",
       "  }\n",
       "</style><div class='table-result-container'><table class='table-result'><thead style='background-color: white'><tr><th>ID</th><th>Product_Name</th><th>Product_ID</th><th>Reviewer_Name</th><th>Review_Date</th><th>Review</th><th>sentiment</th></tr></thead><tbody><tr><td>1</td><td>Wireless Mouse</td><td>P001</td><td>Alice Johnson</td><td>2024-03-01</td><td>Great mouse! Smooth performance and excellent battery life. Highly recommend.</td><td>positive</td></tr><tr><td>2</td><td>Bluetooth Speaker</td><td>P002</td><td>John Doe</td><td>2024-03-05</td><td>Decent sound quality, but the bass is weak. Expected better for the price.</td><td>mixed</td></tr><tr><td>3</td><td>Mechanical Keyboard</td><td>P003</td><td>Sarah Lee</td><td>2024-03-10</td><td>Fantastic keyboard! The tactile feedback is amazing. Perfect for gaming.</td><td>positive</td></tr><tr><td>4</td><td>Noise Cancelling Headphones</td><td>P004</td><td>Mike Brown</td><td>2024-03-15</td><td>Noise cancellation is good, but the ear cups are a bit uncomfortable for long use.</td><td>mixed</td></tr><tr><td>5</td><td>Smartwatch</td><td>P005</td><td>Emma Wilson</td><td>2024-03-20</td><td>Very stylish and feature-rich. Battery life could be better, but still a great buy!</td><td>mixed</td></tr></tbody></table></div>"
      ]
     },
     "metadata": {
      "application/vnd.databricks.v1+output": {
       "addedWidgets": {},
       "aggData": [],
       "aggError": "",
       "aggOverflow": false,
       "aggSchema": [],
       "aggSeriesLimitReached": false,
       "aggType": "",
       "arguments": {},
       "columnCustomDisplayInfos": {},
       "data": [
        [
         "1",
         "Wireless Mouse",
         "P001",
         "Alice Johnson",
         "2024-03-01",
         "Great mouse! Smooth performance and excellent battery life. Highly recommend.",
         "positive"
        ],
        [
         "2",
         "Bluetooth Speaker",
         "P002",
         "John Doe",
         "2024-03-05",
         "Decent sound quality, but the bass is weak. Expected better for the price.",
         "mixed"
        ],
        [
         "3",
         "Mechanical Keyboard",
         "P003",
         "Sarah Lee",
         "2024-03-10",
         "Fantastic keyboard! The tactile feedback is amazing. Perfect for gaming.",
         "positive"
        ],
        [
         "4",
         "Noise Cancelling Headphones",
         "P004",
         "Mike Brown",
         "2024-03-15",
         "Noise cancellation is good, but the ear cups are a bit uncomfortable for long use.",
         "mixed"
        ],
        [
         "5",
         "Smartwatch",
         "P005",
         "Emma Wilson",
         "2024-03-20",
         "Very stylish and feature-rich. Battery life could be better, but still a great buy!",
         "mixed"
        ]
       ],
       "datasetInfos": [],
       "dbfsResultPath": null,
       "isJsonSchema": true,
       "metadata": {
        "createTempViewForImplicitDf": true,
        "dataframeName": "_sqldf",
        "executionCount": 15
       },
       "overflow": false,
       "plotOptions": {
        "customPlotOptions": {},
        "displayType": "table",
        "pivotAggregation": null,
        "pivotColumns": null,
        "xColumns": null,
        "yColumns": null
       },
       "removedWidgets": [],
       "schema": [
        {
         "metadata": "{}",
         "name": "ID",
         "type": "\"string\""
        },
        {
         "metadata": "{}",
         "name": "Product_Name",
         "type": "\"string\""
        },
        {
         "metadata": "{}",
         "name": "Product_ID",
         "type": "\"string\""
        },
        {
         "metadata": "{}",
         "name": "Reviewer_Name",
         "type": "\"string\""
        },
        {
         "metadata": "{}",
         "name": "Review_Date",
         "type": "\"date\""
        },
        {
         "metadata": "{}",
         "name": "Review",
         "type": "\"string\""
        },
        {
         "metadata": "{}",
         "name": "sentiment",
         "type": "\"string\""
        }
       ],
       "type": "table"
      }
     },
     "output_type": "display_data"
    }
   ],
   "source": [
    "%sql\n",
    "select *,ai_analyze_sentiment(Review) as sentiment from hive_metastore.default.reviews;"
   ]
  },
  {
   "cell_type": "code",
   "execution_count": 0,
   "metadata": {
    "application/vnd.databricks.v1+cell": {
     "cellMetadata": {
      "byteLimit": 2048000,
      "rowLimit": 10000
     },
     "inputWidgets": {},
     "nuid": "41a4c6aa-ead6-4f4a-bbd0-c749022c81de",
     "showTitle": false,
     "tableResultSettingsMap": {},
     "title": ""
    }
   },
   "outputs": [],
   "source": [
    "# Run SQL query and store the result in a DataFrame\n",
    "df = spark.sql(\"\"\"\n",
    "    SELECT *, ai_analyze_sentiment(Review) AS sentiment\n",
    "    FROM hive_metastore.default.reviews\n",
    "\"\"\")\n",
    "\n",
    "# Define the S3 path where the Delta table will be stored\n",
    "s3_path = \"/mnt/databricks_external_stage/product_reviews_output/\"\n",
    "\n",
    "# Save the DataFrame as Delta format in S3\n",
    "df.coalesce(1).write.format(\"delta\").mode(\"overwrite\").save(s3_path)"
   ]
  },
  {
   "cell_type": "code",
   "execution_count": 0,
   "metadata": {
    "application/vnd.databricks.v1+cell": {
     "cellMetadata": {},
     "inputWidgets": {},
     "nuid": "9111f595-f051-4a20-b1fb-3b274693913b",
     "showTitle": false,
     "tableResultSettingsMap": {},
     "title": ""
    }
   },
   "outputs": [],
   "source": []
  }
 ],
 "metadata": {
  "application/vnd.databricks.v1+notebook": {
   "computePreferences": null,
   "dashboards": [],
   "environmentMetadata": {
    "base_environment": "",
    "environment_version": "1"
   },
   "language": "python",
   "notebookMetadata": {
    "mostRecentlyExecutedCommandWithImplicitDF": {
     "commandId": 2172207375108487,
     "dataframes": [
      "_sqldf"
     ]
    },
    "pythonIndentUnit": 2
   },
   "notebookName": "DataBricks Quickstart Guide",
   "widgets": {}
  },
  "language_info": {
   "name": "python"
  }
 },
 "nbformat": 4,
 "nbformat_minor": 0
}