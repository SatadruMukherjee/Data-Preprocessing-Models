{
  "nbformat": 4,
  "nbformat_minor": 0,
  "metadata": {
    "colab": {
      "provenance": [],
      "authorship_tag": "ABX9TyPR8DU7eGWuInrHAmO4VpyP",
      "include_colab_link": true
    },
    "kernelspec": {
      "name": "python3",
      "display_name": "Python 3"
    },
    "language_info": {
      "name": "python"
    }
  },
  "cells": [
    {
      "cell_type": "markdown",
      "metadata": {
        "id": "view-in-github",
        "colab_type": "text"
      },
      "source": [
        "<a href=\"https://colab.research.google.com/github/SatadruMukherjee/Data-Preprocessing-Models/blob/main/Delta_Sharing_Python.ipynb\" target=\"_parent\"><img src=\"https://colab.research.google.com/assets/colab-badge.svg\" alt=\"Open In Colab\"/></a>"
      ]
    },
    {
      "cell_type": "code",
      "execution_count": null,
      "metadata": {
        "id": "EVzXlXSESBex"
      },
      "outputs": [],
      "source": [
        "!pip install --upgrade delta-sharing\n"
      ]
    },
    {
      "cell_type": "code",
      "source": [
        "import delta_sharing\n",
        "\n",
        "# Point to the profile file. It can be a file on the local file system or a file on a remote storage.\n",
        "profile_file = \"/content/config.share\"\n",
        "\n",
        "# Create a SharingClient.\n",
        "client = delta_sharing.SharingClient(profile_file)\n",
        "\n",
        "# List all shared tables.\n",
        "client.list_all_tables()"
      ],
      "metadata": {
        "id": "lhl16bDZTALh"
      },
      "execution_count": null,
      "outputs": []
    },
    {
      "cell_type": "code",
      "source": [
        "table_url = profile_file + \"#<share-name>.<schema-name>.<table-name>\"\n",
        "\n",
        "# Fetch 10 rows from a table and convert it to a Pandas DataFrame. This can be used to read sample data\n",
        "# from a table that cannot fit in the memory.\n",
        "df=delta_sharing.load_as_pandas(table_url, limit=10)"
      ],
      "metadata": {
        "id": "T3vv8RmSTH33"
      },
      "execution_count": null,
      "outputs": []
    },
    {
      "cell_type": "code",
      "source": [
        "df.head()"
      ],
      "metadata": {
        "id": "3STzY8-XTXgu"
      },
      "execution_count": null,
      "outputs": []
    }
  ]
}