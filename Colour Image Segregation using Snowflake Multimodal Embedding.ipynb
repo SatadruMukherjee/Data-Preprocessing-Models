{
 "metadata": {
  "kernelspec": {
   "display_name": "Streamlit Notebook",
   "name": "streamlit"
  },
  "lastEditStatus": {
   "notebookId": "2asdtr6jq3vwjn3h7as7",
   "authorId": "7316567600691",
   "authorName": "SATADRU",
   "authorEmail": "satadru1998@gmail.com",
   "sessionId": "4cd50ac0-d339-439c-8e3d-98c19fd6cc46",
   "lastEditTime": 1759072702362
  }
 },
 "nbformat_minor": 5,
 "nbformat": 4,
 "cells": [
  {
   "cell_type": "code",
   "id": "847d2032-8607-4e5b-a306-c08ce63d09c2",
   "metadata": {
    "language": "python",
    "name": "cell2"
   },
   "outputs": [],
   "source": "from snowflake.snowpark.functions import *\nimport modin.pandas as pd\nimport snowflake.snowpark.modin.plugin\nfrom sklearn.decomposition import PCA\nfrom sklearn.cluster import KMeans\nimport numpy as np",
   "execution_count": null
  },
  {
   "cell_type": "code",
   "id": "7d47984c-75dc-4ba1-bde2-7f4e632d60c8",
   "metadata": {
    "language": "python",
    "name": "cell16",
    "codeCollapsed": false
   },
   "outputs": [],
   "source": "from snowflake.snowpark.context import get_active_session\nsession = get_active_session()",
   "execution_count": null
  },
  {
   "cell_type": "code",
   "id": "5179ed08-2556-4b05-81d7-9b256cbad0fb",
   "metadata": {
    "language": "python",
    "name": "cell15"
   },
   "outputs": [],
   "source": "session.sql(\"create or replace databse S3_TO_SNOWFLAKE\");\nsession.sql(\"use S3_TO_SNOWFLAKE\");",
   "execution_count": null
  },
  {
   "cell_type": "code",
   "id": "269d0cdb-918c-4019-9279-d83c57babc51",
   "metadata": {
    "language": "python",
    "name": "cell4",
    "codeCollapsed": false
   },
   "outputs": [],
   "source": "session.sql(\"\"\"\nCREATE OR REPLACE STAGE Snow_stage\nURL='s3://snwoflakeragtest/pets/'\ncredentials=(aws_key_id=''\naws_secret_key='')\nDIRECTORY=(ENABLE=TRUE)\n\"\"\").collect()",
   "execution_count": null
  },
  {
   "cell_type": "code",
   "id": "90c28195-7c53-49bb-a3f8-c42dbaada27a",
   "metadata": {
    "language": "python",
    "name": "cell5",
    "codeCollapsed": false
   },
   "outputs": [],
   "source": "files_df = pd.read_snowflake(\"SELECT * FROM DIRECTORY(@Snow_stage)\")",
   "execution_count": null
  },
  {
   "cell_type": "code",
   "id": "6045be9f-5077-4487-a717-8dafe0010b0d",
   "metadata": {
    "language": "python",
    "name": "cell1",
    "codeCollapsed": false
   },
   "outputs": [],
   "source": "files_df.head()",
   "execution_count": null
  },
  {
   "cell_type": "code",
   "id": "0fb852fc-e116-4e59-a813-6f50bde0e136",
   "metadata": {
    "language": "python",
    "name": "cell6",
    "codeCollapsed": false
   },
   "outputs": [],
   "source": "embed_df = pd.read_snowflake(\"\"\"\nSELECT RELATIVE_PATH, FILE_URL,\n       TO_ARRAY(AI_EMBED('voyage-multimodal-3', TO_FILE(FILE_URL))) AS image_embedding\nFROM DIRECTORY(@Snow_stage)\n\"\"\")",
   "execution_count": null
  },
  {
   "cell_type": "code",
   "id": "b2556787-b5c5-49d9-b63a-a391ea7777e4",
   "metadata": {
    "language": "python",
    "name": "cell8",
    "codeCollapsed": false
   },
   "outputs": [],
   "source": "embed_df.head()",
   "execution_count": null
  },
  {
   "cell_type": "code",
   "id": "becf96b7-3f1f-4fe8-a73b-d8c120af3153",
   "metadata": {
    "language": "python",
    "name": "cell9",
    "codeCollapsed": false
   },
   "outputs": [],
   "source": "def apply_pca_split_columns(df, embedding_col=\"IMAGE_EMBEDDING\", n_components=3, prefix=\"pc\"):\n    \"\"\"\n    Apply PCA on embeddings and create separate columns for each component.\n    \n    Parameters:\n        df (pd.DataFrame): DataFrame with embeddings.\n        embedding_col (str): Column containing embeddings (list/array per row).\n        n_components (int): Number of PCA components.\n        prefix (str): Prefix for new columns (default \"pc\").\n    \n    Returns:\n        pd.DataFrame, PCA: DataFrame with PCA columns, fitted PCA model.\n    \"\"\"\n    # Convert embeddings into matrix\n    embeddings = np.array(df[embedding_col].to_list())\n    \n    # Fit PCA\n    pca = PCA(n_components=n_components)\n    reduced = pca.fit_transform(embeddings)\n    \n    # Add separate columns for each PCA dimension\n    for i in range(n_components):\n        df[f\"{prefix}{i+1}\"] = reduced[:, i]\n    \n    return df",
   "execution_count": null
  },
  {
   "cell_type": "code",
   "id": "4f0f8f35-761c-47f9-9b46-dfc209cc3a7f",
   "metadata": {
    "language": "python",
    "name": "cell11",
    "codeCollapsed": false
   },
   "outputs": [],
   "source": "df_data = apply_pca_split_columns(embed_df, embedding_col=\"IMAGE_EMBEDDING\",  n_components=3)\ndf_data.head()",
   "execution_count": null
  },
  {
   "cell_type": "code",
   "id": "d133f1d8-4dd4-4d52-940c-a285d6a50a37",
   "metadata": {
    "language": "python",
    "name": "cell3",
    "codeCollapsed": false
   },
   "outputs": [],
   "source": "def apply_kmeans(df, feature_cols=[\"pc1\", \"pc2\", \"pc3\"], n_clusters = 2):\n    \"\"\"\n    Apply KMeans clustering on specified feature columns.\n\n    Parameters:\n        df (pd.DataFrame): DataFrame with PCA features.\n        feature_cols (list): Columns to use for clustering.\n        n_clusters (int): Number of clusters.\n\n    Returns:\n        pd.DataFrame, KMeans: DataFrame with cluster assignments, fitted KMeans model.\n    \"\"\"\n    # Select features\n    X = df[feature_cols].values\n\n    # Fit KMeans\n    kmeans = KMeans(n_clusters=n_clusters, random_state=42)\n    clusters = kmeans.fit_predict(X)\n\n    # Add cluster column\n    df[\"cluster_id\"] = clusters\n\n    return df\n",
   "execution_count": null
  },
  {
   "cell_type": "code",
   "id": "dc1d1710-190e-485d-b74b-73ba58220a04",
   "metadata": {
    "language": "python",
    "name": "cell12",
    "codeCollapsed": false
   },
   "outputs": [],
   "source": "df_data = apply_kmeans(df_data, feature_cols=[\"pc1\", \"pc2\", \"pc3\"], n_clusters=2)\ndf_data.head()",
   "execution_count": null
  },
  {
   "cell_type": "code",
   "id": "044307b8-ef85-4eff-8ece-afbc443fc676",
   "metadata": {
    "language": "python",
    "name": "cell7",
    "codeCollapsed": false
   },
   "outputs": [],
   "source": "# Write results back into Snowflake\nsession.write_pandas(df_data, \"IMAGE_CLUSTER_TABLE\",auto_create_table=True, overwrite=True)",
   "execution_count": null
  },
  {
   "cell_type": "code",
   "id": "7b48197d-82cb-44b6-bf52-90c80027c512",
   "metadata": {
    "language": "sql",
    "name": "cell10",
    "codeCollapsed": false
   },
   "outputs": [],
   "source": "select * from S3_TO_SNOWFLAKE.PUBLIC.IMAGE_CLUSTER_TABLE order by \"cluster_id\";",
   "execution_count": null
  }
 ]
}