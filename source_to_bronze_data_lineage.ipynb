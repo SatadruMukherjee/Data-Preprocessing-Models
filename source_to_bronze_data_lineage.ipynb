{
 "cells": [
  {
   "cell_type": "markdown",
   "metadata": {
    "application/vnd.databricks.v1+cell": {
     "cellMetadata": {},
     "inputWidgets": {},
     "nuid": "ba044ab2-a0e0-4b2a-b754-1a7eb05d2e15",
     "showTitle": false,
     "tableResultSettingsMap": {},
     "title": ""
    }
   },
   "source": [
    "**Data Lineage:** The process of tracking Data Flows from their sources to their destination."
   ]
  },
  {
   "cell_type": "markdown",
   "metadata": {
    "application/vnd.databricks.v1+cell": {
     "cellMetadata": {},
     "inputWidgets": {},
     "nuid": "c8ba6177-b088-4205-8b4f-2f621a740e51",
     "showTitle": false,
     "tableResultSettingsMap": {},
     "title": ""
    }
   },
   "source": [
    "**Significance:** \n",
    "- **Debugging**: It helps in auditing and debugging specially for those systems where large volume of data gets processed through complex transformations.\n",
    "- **Impact Analysis**: Understand dependencies before making anny schema changes"
   ]
  },
  {
   "cell_type": "code",
   "execution_count": 0,
   "metadata": {
    "application/vnd.databricks.v1+cell": {
     "cellMetadata": {
      "byteLimit": 2048000,
      "rowLimit": 10000
     },
     "inputWidgets": {},
     "nuid": "dc64eefb-a9e3-4f53-851f-604a358ad35b",
     "showTitle": false,
     "tableResultSettingsMap": {},
     "title": ""
    }
   },
   "outputs": [],
   "source": [
    "access_key =  \"\"\n",
    "secret_key = \"\"\n",
    "encoded_secret_key = secret_key.replace(\"/\", \"%2F\")\n",
    "aws_bucket_name = \"deltasparktesting\"\n",
    "mount_name = \"databricks_external_stage_lineage\"\n",
    "\n",
    "dbutils.fs.mount(f\"s3a://{access_key}:{encoded_secret_key}@{aws_bucket_name}\", f\"/mnt/{mount_name}\")"
   ]
  },
  {
   "cell_type": "code",
   "execution_count": 0,
   "metadata": {
    "application/vnd.databricks.v1+cell": {
     "cellMetadata": {
      "byteLimit": 2048000,
      "rowLimit": 10000
     },
     "inputWidgets": {},
     "nuid": "859bde56-7abe-49fd-bedc-7a434a11c834",
     "showTitle": false,
     "tableResultSettingsMap": {},
     "title": ""
    }
   },
   "outputs": [
    {
     "output_type": "display_data",
     "data": {
      "text/html": [
       "<style scoped>\n",
       "  .table-result-container {\n",
       "    max-height: 300px;\n",
       "    overflow: auto;\n",
       "  }\n",
       "  table, th, td {\n",
       "    border: 1px solid black;\n",
       "    border-collapse: collapse;\n",
       "  }\n",
       "  th, td {\n",
       "    padding: 5px;\n",
       "  }\n",
       "  th {\n",
       "    text-align: left;\n",
       "  }\n",
       "</style><div class='table-result-container'><table class='table-result'><thead style='background-color: white'><tr><th>path</th><th>name</th><th>size</th><th>modificationTime</th></tr></thead><tbody><tr><td>dbfs:/mnt/databricks_external_stage_lineage/iris_data/Setosa1.csv</td><td>Setosa1.csv</td><td>945</td><td>1737997513000</td></tr><tr><td>dbfs:/mnt/databricks_external_stage_lineage/iris_data/Versicolor.csv</td><td>Versicolor.csv</td><td>1830</td><td>1737997512000</td></tr><tr><td>dbfs:/mnt/databricks_external_stage_lineage/iris_data/Virginica.csv</td><td>Virginica.csv</td><td>1756</td><td>1737997511000</td></tr><tr><td>dbfs:/mnt/databricks_external_stage_lineage/iris_data/another_category.csv</td><td>another_category.csv</td><td>1078</td><td>1738063485000</td></tr></tbody></table></div>"
      ]
     },
     "metadata": {
      "application/vnd.databricks.v1+output": {
       "addedWidgets": {},
       "aggData": [],
       "aggError": "",
       "aggOverflow": false,
       "aggSchema": [],
       "aggSeriesLimitReached": false,
       "aggType": "",
       "arguments": {},
       "columnCustomDisplayInfos": {},
       "data": [
        [
         "dbfs:/mnt/databricks_external_stage_lineage/iris_data/Setosa1.csv",
         "Setosa1.csv",
         945,
         1737997513000
        ],
        [
         "dbfs:/mnt/databricks_external_stage_lineage/iris_data/Versicolor.csv",
         "Versicolor.csv",
         1830,
         1737997512000
        ],
        [
         "dbfs:/mnt/databricks_external_stage_lineage/iris_data/Virginica.csv",
         "Virginica.csv",
         1756,
         1737997511000
        ],
        [
         "dbfs:/mnt/databricks_external_stage_lineage/iris_data/another_category.csv",
         "another_category.csv",
         1078,
         1738063485000
        ]
       ],
       "datasetInfos": [],
       "dbfsResultPath": null,
       "isJsonSchema": true,
       "metadata": {},
       "overflow": false,
       "plotOptions": {
        "customPlotOptions": {},
        "displayType": "table",
        "pivotAggregation": null,
        "pivotColumns": null,
        "xColumns": null,
        "yColumns": null
       },
       "removedWidgets": [],
       "schema": [
        {
         "metadata": "{}",
         "name": "path",
         "type": "\"string\""
        },
        {
         "metadata": "{}",
         "name": "name",
         "type": "\"string\""
        },
        {
         "metadata": "{}",
         "name": "size",
         "type": "\"long\""
        },
        {
         "metadata": "{}",
         "name": "modificationTime",
         "type": "\"long\""
        }
       ],
       "type": "table"
      }
     },
     "output_type": "display_data"
    }
   ],
   "source": [
    "display(dbutils.fs.ls(f\"/mnt/databricks_external_stage_lineage/iris_data/\"))"
   ]
  },
  {
   "cell_type": "code",
   "execution_count": 0,
   "metadata": {
    "application/vnd.databricks.v1+cell": {
     "cellMetadata": {
      "byteLimit": 2048000,
      "rowLimit": 10000
     },
     "inputWidgets": {},
     "nuid": "a8a27ea2-1301-404b-b87e-9eda79a66165",
     "showTitle": false,
     "tableResultSettingsMap": {},
     "title": ""
    }
   },
   "outputs": [],
   "source": [
    "from pyspark.sql.functions import *\n",
    "from pyspark.sql.types import *"
   ]
  },
  {
   "cell_type": "code",
   "execution_count": 0,
   "metadata": {
    "application/vnd.databricks.v1+cell": {
     "cellMetadata": {
      "byteLimit": 2048000,
      "rowLimit": 10000
     },
     "inputWidgets": {},
     "nuid": "8c00d0d5-5852-4b30-95c2-00b4f22921de",
     "showTitle": false,
     "tableResultSettingsMap": {},
     "title": ""
    }
   },
   "outputs": [
    {
     "output_type": "stream",
     "name": "stdout",
     "output_type": "stream",
     "text": [
      "+---+------------+-----------+------------+-----------+---------------+\n|Id |SEPAL_LENGTH|SEPAL_WIDTH|PETAL_LENGTH|PETAL_WIDTH|CLASS_NAME     |\n+---+------------+-----------+------------+-----------+---------------+\n|1  |7.0         |3.2        |4.7         |1.4        |Iris-versicolor|\n|2  |6.4         |3.2        |4.5         |1.5        |Iris-versicolor|\n|3  |6.9         |3.1        |4.9         |1.5        |Iris-versicolor|\n|4  |5.5         |2.3        |4.0         |1.3        |Iris-versicolor|\n|5  |6.5         |2.8        |4.6         |1.5        |Iris-versicolor|\n|6  |5.7         |2.8        |4.5         |1.3        |Iris-versicolor|\n|7  |6.3         |3.3        |4.7         |1.6        |Iris-versicolor|\n|8  |4.9         |2.4        |3.3         |1.0        |Iris-versicolor|\n|9  |6.6         |2.9        |4.6         |1.3        |Iris-versicolor|\n|10 |5.2         |2.7        |3.9         |1.4        |Iris-versicolor|\n|11 |5.0         |2.0        |3.5         |1.0        |Iris-versicolor|\n|12 |5.9         |3.0        |4.0         |1.5        |Iris-versicolor|\n|13 |6.0         |2.2        |4.0         |1.0        |Iris-versicolor|\n|14 |6.1         |2.9        |4.7         |1.4        |Iris-versicolor|\n|15 |5.6         |2.9        |3.6         |1.3        |Iris-versicolor|\n|16 |6.7         |3.1        |4.4         |1.4        |Iris-versicolor|\n|17 |5.6         |3.0        |4.5         |1.5        |Iris-versicolor|\n|18 |5.8         |2.7        |4.1         |1.0        |Iris-versicolor|\n|19 |6.2         |2.2        |4.5         |1.5        |Iris-versicolor|\n|20 |5.6         |2.5        |3.9         |1.1        |Iris-versicolor|\n+---+------------+-----------+------------+-----------+---------------+\nonly showing top 20 rows\n\n"
     ]
    }
   ],
   "source": [
    "\n",
    "df=spark.read.format('csv').option('header',True).option('inferSchema',True).load('/mnt/databricks_external_stage_lineage/iris_data/')\n",
    "df.show(truncate=False)\n",
    "     "
   ]
  },
  {
   "cell_type": "code",
   "execution_count": 0,
   "metadata": {
    "application/vnd.databricks.v1+cell": {
     "cellMetadata": {
      "byteLimit": 2048000,
      "rowLimit": 10000
     },
     "inputWidgets": {},
     "nuid": "bf1a9946-7096-4d8a-b22f-dd96935e3c72",
     "showTitle": false,
     "tableResultSettingsMap": {},
     "title": ""
    }
   },
   "outputs": [],
   "source": [
    "df.write.format(\"delta\").mode(\"overwrite\").saveAsTable(\"default.iris_date\")"
   ]
  },
  {
   "cell_type": "code",
   "execution_count": 0,
   "metadata": {
    "application/vnd.databricks.v1+cell": {
     "cellMetadata": {},
     "inputWidgets": {},
     "nuid": "d9bffd0a-3d33-46e1-a79d-24ec346dfce3",
     "showTitle": false,
     "tableResultSettingsMap": {},
     "title": ""
    }
   },
   "outputs": [],
   "source": []
  }
 ],
 "metadata": {
  "application/vnd.databricks.v1+notebook": {
   "computePreferences": null,
   "dashboards": [],
   "environmentMetadata": {
    "base_environment": "",
    "environment_version": "2"
   },
   "inputWidgetPreferences": null,
   "language": "python",
   "notebookMetadata": {
    "mostRecentlyExecutedCommandWithImplicitDF": {
     "commandId": 8146681861838229,
     "dataframes": [
      "_sqldf"
     ]
    },
    "pythonIndentUnit": 4
   },
   "notebookName": "source_to_bronze_data_lineage",
   "widgets": {}
  },
  "language_info": {
   "name": "python"
  }
 },
 "nbformat": 4,
 "nbformat_minor": 0
}