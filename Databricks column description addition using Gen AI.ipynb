{
 "cells": [
  {
   "cell_type": "markdown",
   "metadata": {
    "application/vnd.databricks.v1+cell": {
     "cellMetadata": {
      "byteLimit": 2048000,
      "rowLimit": 10000
     },
     "inputWidgets": {},
     "nuid": "8e2c1243-dd6f-4ad1-a492-bab08139dd6d",
     "showTitle": false,
     "tableResultSettingsMap": {},
     "title": ""
    }
   },
   "source": [
    "# Enrich your Databricks Data Catalog with generative AI metadata using Amazon Bedrock"
   ]
  },
  {
   "cell_type": "markdown",
   "metadata": {
    "application/vnd.databricks.v1+cell": {
     "cellMetadata": {},
     "inputWidgets": {},
     "nuid": "1afaf1f1-c4ac-4ace-a125-871856226fc1",
     "showTitle": false,
     "tableResultSettingsMap": {},
     "title": ""
    }
   },
   "source": [
    "### [Reference Blog](https://aws.amazon.com/blogs/big-data/enrich-your-aws-glue-data-catalog-with-generative-ai-metadata-using-amazon-bedrock/)"
   ]
  },
  {
   "cell_type": "markdown",
   "metadata": {
    "application/vnd.databricks.v1+cell": {
     "cellMetadata": {},
     "inputWidgets": {},
     "nuid": "467a6d04-c480-41e7-aa4f-5bc3c2f2692b",
     "showTitle": false,
     "tableResultSettingsMap": {},
     "title": ""
    }
   },
   "source": [
    "### Prerequisite:\n",
    "[Entity Extraction using Templating with Amazon Bedrock](https://youtu.be/jjn0EjiFT6I?si=Iex1B7yMSCBtbRtZ)"
   ]
  },
  {
   "cell_type": "code",
   "execution_count": 0,
   "metadata": {
    "application/vnd.databricks.v1+cell": {
     "cellMetadata": {
      "byteLimit": 2048000,
      "rowLimit": 10000
     },
     "inputWidgets": {},
     "nuid": "cd5ecf17-a806-4fc4-ab5d-54a47e8341f8",
     "showTitle": false,
     "tableResultSettingsMap": {},
     "title": ""
    }
   },
   "outputs": [
    {
     "output_type": "stream",
     "name": "stdout",
     "output_type": "stream",
     "text": [
      "Requirement already satisfied: jsonschema in /local_disk0/.ephemeral_nfs/envs/pythonEnv-e914059f-b4e6-4490-acf2-dee9cc6a4c90/lib/python3.11/site-packages (4.23.0)\nRequirement already satisfied: attrs>=22.2.0 in /local_disk0/.ephemeral_nfs/envs/pythonEnv-e914059f-b4e6-4490-acf2-dee9cc6a4c90/lib/python3.11/site-packages (from jsonschema) (25.3.0)\nRequirement already satisfied: jsonschema-specifications>=2023.03.6 in /local_disk0/.ephemeral_nfs/envs/pythonEnv-e914059f-b4e6-4490-acf2-dee9cc6a4c90/lib/python3.11/site-packages (from jsonschema) (2025.4.1)\nRequirement already satisfied: referencing>=0.28.4 in /local_disk0/.ephemeral_nfs/envs/pythonEnv-e914059f-b4e6-4490-acf2-dee9cc6a4c90/lib/python3.11/site-packages (from jsonschema) (0.36.2)\nRequirement already satisfied: rpds-py>=0.7.1 in /local_disk0/.ephemeral_nfs/envs/pythonEnv-e914059f-b4e6-4490-acf2-dee9cc6a4c90/lib/python3.11/site-packages (from jsonschema) (0.24.0)\nRequirement already satisfied: typing-extensions>=4.4.0 in /databricks/python3/lib/python3.11/site-packages (from referencing>=0.28.4->jsonschema) (4.10.0)\n\u001B[43mNote: you may need to restart the kernel using %restart_python or dbutils.library.restartPython() to use updated packages.\u001B[0m\n"
     ]
    }
   ],
   "source": [
    "%pip install jsonschema"
   ]
  },
  {
   "cell_type": "code",
   "execution_count": 0,
   "metadata": {
    "application/vnd.databricks.v1+cell": {
     "cellMetadata": {
      "byteLimit": 2048000,
      "rowLimit": 10000
     },
     "inputWidgets": {},
     "nuid": "8053d2b6-b389-466e-9675-8915d646dc5e",
     "showTitle": false,
     "tableResultSettingsMap": {},
     "title": ""
    }
   },
   "outputs": [],
   "source": [
    "dbutils.library.restartPython()"
   ]
  },
  {
   "cell_type": "markdown",
   "metadata": {
    "application/vnd.databricks.v1+cell": {
     "cellMetadata": {},
     "inputWidgets": {},
     "nuid": "50088bcb-1eac-46ee-aa2b-f5a68c2cfbff",
     "showTitle": false,
     "tableResultSettingsMap": {},
     "title": ""
    }
   },
   "source": [
    "# Create Dummy Tables for experiment"
   ]
  },
  {
   "cell_type": "code",
   "execution_count": 0,
   "metadata": {
    "application/vnd.databricks.v1+cell": {
     "cellMetadata": {
      "byteLimit": 2048000,
      "rowLimit": 10000
     },
     "inputWidgets": {},
     "nuid": "002ef6c0-accc-4710-8e1c-9431ece09d14",
     "showTitle": false,
     "tableResultSettingsMap": {},
     "title": ""
    }
   },
   "outputs": [],
   "source": [
    "from pyspark.sql.types import *\n",
    "from pyspark.sql import SparkSession\n",
    "\n",
    "spark = SparkSession.builder.getOrCreate()\n",
    "\n",
    "# 1️⃣ Products Table - 5 rows\n",
    "products_data = [\n",
    "    (101, \"Laptop\", \"Electronics\", 850.50),\n",
    "    (102, \"Book\", \"Education\", 15.99),\n",
    "    (103, \"T-Shirt\", \"Clothing\", 25.49),\n",
    "    (104, \"Phone\", \"Electronics\", 699.00),\n",
    "    (105, \"Shoes\", \"Footwear\", 49.99)\n",
    "]\n",
    "products_schema = StructType([\n",
    "    StructField(\"product_id\", IntegerType(), True),\n",
    "    StructField(\"name\", StringType(), True),\n",
    "    StructField(\"category\", StringType(), True),\n",
    "    StructField(\"price\", DoubleType(), True)\n",
    "])\n",
    "spark.createDataFrame(products_data, products_schema) \\\n",
    "    .write.mode(\"overwrite\").format(\"delta\").saveAsTable(\"delta_products\")\n",
    "\n",
    "\n",
    "# 2️⃣ Employees Table - 3 rows\n",
    "employees_data = [\n",
    "    (1, \"Alice\", \"Engineering\", 75000),\n",
    "    (2, \"Bob\", \"Sales\", 55000),\n",
    "    (3, \"Charlie\", \"HR\", 48000)\n",
    "]\n",
    "employees_schema = StructType([\n",
    "    StructField(\"emp_id\", IntegerType(), True),\n",
    "    StructField(\"name\", StringType(), True),\n",
    "    StructField(\"department\", StringType(), True),\n",
    "    StructField(\"salary\", IntegerType(), True)\n",
    "])\n",
    "spark.createDataFrame(employees_data, employees_schema) \\\n",
    "    .write.mode(\"overwrite\").format(\"delta\").saveAsTable(\"delta_employees\")\n",
    "\n",
    "\n",
    "# 3️⃣ Sales Table - 10 rows\n",
    "sales_data = [\n",
    "    (1, 101, 2, \"2024-01-01\"),\n",
    "    (2, 103, 5, \"2024-02-10\"),\n",
    "    (3, 102, 1, \"2024-03-05\"),\n",
    "    (4, 104, 3, \"2024-03-15\"),\n",
    "    (5, 105, 2, \"2024-03-20\"),\n",
    "    (6, 101, 1, \"2024-03-22\"),\n",
    "    (7, 102, 4, \"2024-03-25\"),\n",
    "    (8, 103, 2, \"2024-04-01\"),\n",
    "    (9, 104, 1, \"2024-04-02\"),\n",
    "    (10, 105, 6, \"2024-04-04\")\n",
    "]\n",
    "sales_schema = StructType([\n",
    "    StructField(\"sale_id\", IntegerType(), True),\n",
    "    StructField(\"product_id\", IntegerType(), True),\n",
    "    StructField(\"quantity\", IntegerType(), True),\n",
    "    StructField(\"sale_date\", StringType(), True)\n",
    "])\n",
    "spark.createDataFrame(sales_data, sales_schema) \\\n",
    "    .write.mode(\"overwrite\").format(\"delta\").saveAsTable(\"delta_sales\")\n",
    "\n",
    "\n",
    "# 4️⃣ Customers Table - 2 rows\n",
    "customers_data = [\n",
    "    (1001, \"Daniel\", \"daniel@example.com\", \"India\"),\n",
    "    (1002, \"Emma\", \"emma@example.com\", \"USA\")\n",
    "]\n",
    "customers_schema = StructType([\n",
    "    StructField(\"customer_id\", IntegerType(), True),\n",
    "    StructField(\"name\", StringType(), True),\n",
    "    StructField(\"email\", StringType(), True),\n",
    "    StructField(\"country\", StringType(), True)\n",
    "])\n",
    "spark.createDataFrame(customers_data, customers_schema) \\\n",
    "    .write.mode(\"overwrite\").format(\"delta\").saveAsTable(\"delta_customers\")\n",
    "\n",
    "\n",
    "# 5️⃣ Transactions Table - 7 rows\n",
    "transactions_data = [\n",
    "    (\"TX100\", 1001, 101, \"2024-04-01\", \"Completed\"),\n",
    "    (\"TX101\", 1002, 103, \"2024-04-03\", \"Pending\"),\n",
    "    (\"TX102\", 1001, 102, \"2024-04-04\", \"Failed\"),\n",
    "    (\"TX103\", 1002, 104, \"2024-04-05\", \"Completed\"),\n",
    "    (\"TX104\", 1001, 105, \"2024-04-06\", \"Completed\"),\n",
    "    (\"TX105\", 1002, 101, \"2024-04-07\", \"Pending\"),\n",
    "    (\"TX106\", 1001, 103, \"2024-04-08\", \"Failed\")\n",
    "]\n",
    "transactions_schema = StructType([\n",
    "    StructField(\"txn_id\", StringType(), True),\n",
    "    StructField(\"customer_id\", IntegerType(), True),\n",
    "    StructField(\"product_id\", IntegerType(), True),\n",
    "    StructField(\"txn_date\", StringType(), True),\n",
    "    StructField(\"status\", StringType(), True)\n",
    "])\n",
    "spark.createDataFrame(transactions_data, transactions_schema) \\\n",
    "    .write.mode(\"overwrite\").format(\"delta\").saveAsTable(\"delta_transactions\")"
   ]
  },
  {
   "cell_type": "code",
   "execution_count": 0,
   "metadata": {
    "application/vnd.databricks.v1+cell": {
     "cellMetadata": {
      "byteLimit": 2048000,
      "rowLimit": 10000
     },
     "inputWidgets": {},
     "nuid": "cc584e09-3f2a-4e93-b96f-48533535eb53",
     "showTitle": false,
     "tableResultSettingsMap": {},
     "title": ""
    }
   },
   "outputs": [],
   "source": [
    "import json\n",
    "import boto3 \n",
    "from botocore.config import Config"
   ]
  },
  {
   "cell_type": "markdown",
   "metadata": {
    "application/vnd.databricks.v1+cell": {
     "cellMetadata": {},
     "inputWidgets": {},
     "nuid": "7e414fc2-4a0c-4aa5-a6ab-03225f02251e",
     "showTitle": false,
     "tableResultSettingsMap": {},
     "title": ""
    }
   },
   "source": [
    "# [Bedrock](https://aws.amazon.com/bedrock/) Client Creation"
   ]
  },
  {
   "cell_type": "code",
   "execution_count": 0,
   "metadata": {
    "application/vnd.databricks.v1+cell": {
     "cellMetadata": {
      "byteLimit": 2048000,
      "rowLimit": 10000
     },
     "inputWidgets": {},
     "nuid": "2c066b8c-441f-4cef-b1a0-3075bd7de1d6",
     "showTitle": false,
     "tableResultSettingsMap": {},
     "title": ""
    }
   },
   "outputs": [],
   "source": [
    "bedrock_client = boto3.client(\"bedrock-runtime\",aws_access_key_id='',aws_secret_access_key='',region_name='us-east-1')"
   ]
  },
  {
   "cell_type": "code",
   "execution_count": 0,
   "metadata": {
    "application/vnd.databricks.v1+cell": {
     "cellMetadata": {
      "byteLimit": 2048000,
      "rowLimit": 10000
     },
     "inputWidgets": {},
     "nuid": "babb2e83-7c34-4dde-a9d9-6f9ebb9ae941",
     "showTitle": false,
     "tableResultSettingsMap": {},
     "title": ""
    }
   },
   "outputs": [],
   "source": [
    "model_id = \"arn:aws:bedrock:us-east-1::model/anthropic.claude-3-7-sonnet-20250219-v1:0\"\n",
    "catalog = \"workspace\"\n",
    "schema = \"default\"\n",
    "table_name=\"delta_customers\""
   ]
  },
  {
   "cell_type": "code",
   "execution_count": 0,
   "metadata": {
    "application/vnd.databricks.v1+cell": {
     "cellMetadata": {
      "byteLimit": 2048000,
      "implicitDf": true,
      "rowLimit": 10000
     },
     "inputWidgets": {},
     "nuid": "c5beb08f-a22d-4110-8a02-dc302cd18e5c",
     "showTitle": false,
     "tableResultSettingsMap": {},
     "title": ""
    }
   },
   "outputs": [
    {
     "output_type": "display_data",
     "data": {
      "text/html": [
       "<style scoped>\n",
       "  .table-result-container {\n",
       "    max-height: 300px;\n",
       "    overflow: auto;\n",
       "  }\n",
       "  table, th, td {\n",
       "    border: 1px solid black;\n",
       "    border-collapse: collapse;\n",
       "  }\n",
       "  th, td {\n",
       "    padding: 5px;\n",
       "  }\n",
       "  th {\n",
       "    text-align: left;\n",
       "  }\n",
       "</style><div class='table-result-container'><table class='table-result'><thead style='background-color: white'><tr><th>col_name</th><th>data_type</th><th>comment</th></tr></thead><tbody><tr><td>customer_id</td><td>int</td><td>null</td></tr><tr><td>name</td><td>string</td><td>null</td></tr><tr><td>email</td><td>string</td><td>null</td></tr><tr><td>country</td><td>string</td><td>null</td></tr></tbody></table></div>"
      ]
     },
     "metadata": {
      "application/vnd.databricks.v1+output": {
       "addedWidgets": {},
       "aggData": [],
       "aggError": "",
       "aggOverflow": false,
       "aggSchema": [],
       "aggSeriesLimitReached": false,
       "aggType": "",
       "arguments": {},
       "columnCustomDisplayInfos": {},
       "data": [
        [
         "customer_id",
         "int",
         null
        ],
        [
         "name",
         "string",
         null
        ],
        [
         "email",
         "string",
         null
        ],
        [
         "country",
         "string",
         null
        ]
       ],
       "datasetInfos": [],
       "dbfsResultPath": null,
       "isJsonSchema": true,
       "metadata": {},
       "overflow": false,
       "plotOptions": {
        "customPlotOptions": {},
        "displayType": "table",
        "pivotAggregation": null,
        "pivotColumns": null,
        "xColumns": null,
        "yColumns": null
       },
       "removedWidgets": [],
       "schema": [
        {
         "metadata": "{\"comment\":\"name of the column\"}",
         "name": "col_name",
         "type": "\"string\""
        },
        {
         "metadata": "{\"comment\":\"data type of the column\"}",
         "name": "data_type",
         "type": "\"string\""
        },
        {
         "metadata": "{\"comment\":\"comment of the column\"}",
         "name": "comment",
         "type": "\"string\""
        }
       ],
       "type": "table"
      }
     },
     "output_type": "display_data"
    }
   ],
   "source": [
    "spark.sql(f\"DESCRIBE TABLE  {catalog}.{schema}.{table_name}\").display()"
   ]
  },
  {
   "cell_type": "markdown",
   "metadata": {
    "application/vnd.databricks.v1+cell": {
     "cellMetadata": {},
     "inputWidgets": {},
     "nuid": "0e227956-5191-4367-9097-eea74faa1994",
     "showTitle": false,
     "tableResultSettingsMap": {},
     "title": ""
    }
   },
   "source": [
    "# Fetch Column Names & Datatypes"
   ]
  },
  {
   "cell_type": "code",
   "execution_count": 0,
   "metadata": {
    "application/vnd.databricks.v1+cell": {
     "cellMetadata": {
      "byteLimit": 2048000,
      "rowLimit": 10000
     },
     "inputWidgets": {},
     "nuid": "30bc3091-8064-4aa3-a0a6-10b64f5781a9",
     "showTitle": false,
     "tableResultSettingsMap": {},
     "title": ""
    }
   },
   "outputs": [],
   "source": [
    "columns_df = spark.sql(f\"DESCRIBE TABLE {catalog}.{schema}.{table_name}\")\n",
    "existing_metadata = columns_df.toPandas().to_dict(orient='records')"
   ]
  },
  {
   "cell_type": "code",
   "execution_count": 0,
   "metadata": {
    "application/vnd.databricks.v1+cell": {
     "cellMetadata": {
      "byteLimit": 2048000,
      "rowLimit": 10000
     },
     "inputWidgets": {},
     "nuid": "1effb135-71bf-447d-b93a-5ffecf55a822",
     "showTitle": false,
     "tableResultSettingsMap": {},
     "title": ""
    }
   },
   "outputs": [
    {
     "output_type": "execute_result",
     "data": {
      "text/plain": [
       "[{'col_name': 'customer_id', 'data_type': 'int', 'comment': None},\n",
       " {'col_name': 'name', 'data_type': 'string', 'comment': None},\n",
       " {'col_name': 'email', 'data_type': 'string', 'comment': None},\n",
       " {'col_name': 'country', 'data_type': 'string', 'comment': None}]"
      ]
     },
     "execution_count": 18,
     "metadata": {},
     "output_type": "execute_result"
    }
   ],
   "source": [
    "existing_metadata"
   ]
  },
  {
   "cell_type": "markdown",
   "metadata": {
    "application/vnd.databricks.v1+cell": {
     "cellMetadata": {},
     "inputWidgets": {},
     "nuid": "b9cf9516-290b-4c27-940f-949992060e78",
     "showTitle": false,
     "tableResultSettingsMap": {},
     "title": ""
    }
   },
   "source": [
    "# Column Description Generation using in-context learning"
   ]
  },
  {
   "cell_type": "code",
   "execution_count": 0,
   "metadata": {
    "application/vnd.databricks.v1+cell": {
     "cellMetadata": {
      "byteLimit": 2048000,
      "rowLimit": 10000
     },
     "inputWidgets": {},
     "nuid": "0872267e-77d9-4531-b84f-75ea0907974e",
     "showTitle": false,
     "tableResultSettingsMap": {},
     "title": ""
    }
   },
   "outputs": [
    {
     "output_type": "stream",
     "name": "stdout",
     "output_type": "stream",
     "text": [
      "{'table_description': 'This table stores customer information, including unique identifiers, names, email addresses, and countries.', 'columns_with_comments': [{'column_name': 'customer_id', 'comment': 'Unique identifier for each customer (primary key)'}, {'column_name': 'name', 'comment': 'Full name of the customer'}, {'column_name': 'email', 'comment': 'Email address of the customer'}, {'column_name': 'country', 'comment': 'Country where the customer is located'}]}\n"
     ]
    }
   ],
   "source": [
    "# Step 2: Prepare prompt for LLM\n",
    "user_msg_template_table = f\"\"\"\n",
    "You are given metadata for a Databricks  table called {catalog}.{schema}.{table_name}. Your task is to generate meaningful comments for the table and its columns.\n",
    "\n",
    "Instructions:\n",
    "1. Use the metadata to understand the structure.\n",
    "2. Create a helpful and concise table description.\n",
    "3. Add meaningful comments to each column based on the name and data type.\n",
    "4. If a column is a primary key or foreign key (e.g., ends with '_id'), mention that in the comment.\n",
    "5. Return your output strictly in the following JSON format:\n",
    "\n",
    "{{\n",
    "  \"table_description\": \"your description here\",\n",
    "  \"columns_with_comments\": [\n",
    "    {{\"column_name\": \"col1\", \"comment\": \"description\"}},\n",
    "    {{\"column_name\": \"col2\", \"comment\": \"description\"}}\n",
    "  ]\n",
    "}}\n",
    "\n",
    "If you can't infer a description, use \"not available\".\n",
    "Here is the table metadata in <metadata></metadata> tags:\n",
    "\n",
    "<metadata>\n",
    "{existing_metadata}\n",
    "</metadata>\n",
    "\"\"\"\n",
    "\n",
    "# Step 3: Call the Bedrock model\n",
    "response = bedrock_client.invoke_model(\n",
    "    modelId=\"arn:aws:bedrock:us-east-1:404091004961:inference-profile/us.anthropic.claude-3-sonnet-20240229-v1:0\",\n",
    "    contentType=\"application/json\",\n",
    "    accept=\"application/json\",\n",
    "    body=json.dumps({\n",
    "        \"anthropic_version\": \"bedrock-2023-05-31\",\n",
    "        \"max_tokens\": 800,\n",
    "        \"top_k\": 250,\n",
    "        \"temperature\": 0.5,\n",
    "        \"top_p\": 0.999,\n",
    "        \"stop_sequences\": [],\n",
    "        \"messages\": [\n",
    "            {\n",
    "                \"role\": \"user\",\n",
    "                \"content\": [\n",
    "                    {\n",
    "                        \"type\": \"text\",\n",
    "                        \"text\": user_msg_template_table\n",
    "                    }\n",
    "                ]\n",
    "            }\n",
    "        ]\n",
    "    })\n",
    ")\n",
    "\n",
    "# Step 4: Parse the response\n",
    "response_body = json.loads(response['body'].read())\n",
    "\n",
    "enriched_metadata_json = json.loads(response_body['content'][0]['text'])\n",
    "print(enriched_metadata_json)\n"
   ]
  },
  {
   "cell_type": "code",
   "execution_count": 0,
   "metadata": {
    "application/vnd.databricks.v1+cell": {
     "cellMetadata": {
      "byteLimit": 2048000,
      "rowLimit": 10000
     },
     "inputWidgets": {},
     "nuid": "3cd4b9a2-378d-4106-a11d-b47fda31703a",
     "showTitle": false,
     "tableResultSettingsMap": {},
     "title": ""
    }
   },
   "outputs": [
    {
     "output_type": "execute_result",
     "data": {
      "text/plain": [
       "{'table_description': 'This table stores customer information, including unique identifiers, names, email addresses, and countries.',\n",
       " 'columns_with_comments': [{'column_name': 'customer_id',\n",
       "   'comment': 'Unique identifier for each customer (primary key)'},\n",
       "  {'column_name': 'name', 'comment': 'Full name of the customer'},\n",
       "  {'column_name': 'email', 'comment': 'Email address of the customer'},\n",
       "  {'column_name': 'country',\n",
       "   'comment': 'Country where the customer is located'}]}"
      ]
     },
     "execution_count": 20,
     "metadata": {},
     "output_type": "execute_result"
    }
   ],
   "source": [
    "enriched_metadata_json"
   ]
  },
  {
   "cell_type": "code",
   "execution_count": 0,
   "metadata": {
    "application/vnd.databricks.v1+cell": {
     "cellMetadata": {
      "byteLimit": 2048000,
      "rowLimit": 10000
     },
     "inputWidgets": {},
     "nuid": "e46c07ec-952e-4713-aa0b-61e8d81c4d54",
     "showTitle": false,
     "tableResultSettingsMap": {},
     "title": ""
    }
   },
   "outputs": [
    {
     "output_type": "execute_result",
     "data": {
      "text/plain": [
       "'This table stores customer information, including unique identifiers, names, email addresses, and countries.'"
      ]
     },
     "execution_count": 21,
     "metadata": {},
     "output_type": "execute_result"
    }
   ],
   "source": [
    "enriched_metadata_json['table_description']"
   ]
  },
  {
   "cell_type": "markdown",
   "metadata": {
    "application/vnd.databricks.v1+cell": {
     "cellMetadata": {
      "byteLimit": 2048000,
      "rowLimit": 10000
     },
     "inputWidgets": {},
     "nuid": "86ea319f-71fe-482b-acb4-4f34627f3845",
     "showTitle": false,
     "tableResultSettingsMap": {},
     "title": ""
    }
   },
   "source": [
    "# [Schema Validation](https://python-jsonschema.readthedocs.io/en/latest/validate/)"
   ]
  },
  {
   "cell_type": "code",
   "execution_count": 0,
   "metadata": {
    "application/vnd.databricks.v1+cell": {
     "cellMetadata": {
      "byteLimit": 2048000,
      "rowLimit": 10000
     },
     "inputWidgets": {},
     "nuid": "8f983036-8ea1-4402-b1b3-90a715308e2f",
     "showTitle": false,
     "tableResultSettingsMap": {},
     "title": ""
    }
   },
   "outputs": [],
   "source": [
    "from jsonschema import validate\n",
    "\n",
    "schema_table_input = {\n",
    "    \"type\": \"object\", \n",
    "    \"properties\" : {\n",
    "  \"table_description\": {\"type\" : \"string\"},\n",
    "  \"columns_with_comments\": {\"type\" : \"array\"}\n",
    "}\n",
    "}\n",
    "\n",
    "\n",
    "\n",
    "validate(instance=json.loads(response_body['content'][0]['text']), schema=schema_table_input)"
   ]
  },
  {
   "cell_type": "markdown",
   "metadata": {
    "application/vnd.databricks.v1+cell": {
     "cellMetadata": {},
     "inputWidgets": {},
     "nuid": "1aa0e431-e252-4850-b2ad-1083f4b69795",
     "showTitle": false,
     "tableResultSettingsMap": {},
     "title": ""
    }
   },
   "source": [
    "# Update Data Catalog"
   ]
  },
  {
   "cell_type": "code",
   "execution_count": 0,
   "metadata": {
    "application/vnd.databricks.v1+cell": {
     "cellMetadata": {
      "byteLimit": 2048000,
      "rowLimit": 10000
     },
     "inputWidgets": {},
     "nuid": "07f414e4-00e7-4df1-84cb-c41036f62bf2",
     "showTitle": false,
     "tableResultSettingsMap": {},
     "title": ""
    }
   },
   "outputs": [
    {
     "output_type": "stream",
     "name": "stdout",
     "output_type": "stream",
     "text": [
      "✅ Metadata for table delta_customers updated successfully.\n"
     ]
    }
   ],
   "source": [
    "spark.sql(f\"ALTER TABLE {catalog}.{schema}.{table_name} SET TBLPROPERTIES ('comment' = '{enriched_metadata_json['table_description']}')\")\n",
    "\n",
    "# Apply column comments\n",
    "for col in enriched_metadata_json[\"columns_with_comments\"]:\n",
    "    col_name = col[\"column_name\"]\n",
    "    comment = col[\"comment\"]\n",
    "    spark.sql(f\"ALTER TABLE {catalog}.{schema}.{table_name} CHANGE COLUMN {col_name} COMMENT '{comment}'\")\n",
    "\n",
    "print(f\"✅ Metadata for table {table_name} updated successfully.\")"
   ]
  }
 ],
 "metadata": {
  "application/vnd.databricks.v1+notebook": {
   "computePreferences": null,
   "dashboards": [],
   "environmentMetadata": {
    "base_environment": "",
    "environment_version": "2"
   },
   "inputWidgetPreferences": null,
   "language": "python",
   "notebookMetadata": {
    "mostRecentlyExecutedCommandWithImplicitDF": {
     "commandId": 7871931391500198,
     "dataframes": [
      "_sqldf"
     ]
    },
    "pythonIndentUnit": 4
   },
   "notebookName": "Databricks column description addition using Gen AI",
   "widgets": {}
  },
  "language_info": {
   "name": "python"
  }
 },
 "nbformat": 4,
 "nbformat_minor": 0
}