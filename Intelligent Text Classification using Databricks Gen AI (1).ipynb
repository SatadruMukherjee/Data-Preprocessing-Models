{
 "cells": [
  {
   "cell_type": "markdown",
   "metadata": {
    "application/vnd.databricks.v1+cell": {
     "cellMetadata": {},
     "inputWidgets": {},
     "nuid": "036f53a8-e6b6-4f27-a376-7b5a8d0d25ae",
     "showTitle": false,
     "tableResultSettingsMap": {},
     "title": ""
    }
   },
   "source": [
    "### LLM in Databricks"
   ]
  },
  {
   "cell_type": "markdown",
   "metadata": {
    "application/vnd.databricks.v1+cell": {
     "cellMetadata": {},
     "inputWidgets": {},
     "nuid": "c1b78c97-e031-4017-8f78-36b675a7442d",
     "showTitle": false,
     "tableResultSettingsMap": {},
     "title": ""
    }
   },
   "source": [
    "![](/Workspace/Users/ghinku12345@gmail.com/calculate-embeddings-c6fa28b679c1cf21b1f93434a0ed927d.png)"
   ]
  },
  {
   "cell_type": "code",
   "execution_count": 0,
   "metadata": {
    "application/vnd.databricks.v1+cell": {
     "cellMetadata": {
      "byteLimit": 2048000,
      "implicitDf": true,
      "rowLimit": 10000
     },
     "inputWidgets": {},
     "nuid": "b007f068-fca3-4431-9ca3-218e93c63994",
     "showTitle": false,
     "tableResultSettingsMap": {},
     "title": ""
    }
   },
   "outputs": [],
   "source": [
    "%sql\n",
    "drop table if exists question_data;"
   ]
  },
  {
   "cell_type": "code",
   "execution_count": 0,
   "metadata": {
    "application/vnd.databricks.v1+cell": {
     "cellMetadata": {
      "byteLimit": 2048000,
      "implicitDf": true,
      "rowLimit": 10000
     },
     "inputWidgets": {},
     "nuid": "671f3cb0-399e-4cd8-b8ab-ab1ee5e39f4f",
     "showTitle": false,
     "tableResultSettingsMap": {},
     "title": ""
    }
   },
   "outputs": [],
   "source": [
    "%sql\n",
    "CREATE TABLE question_data (\n",
    "    question_id INT,\n",
    "    text STRING,\n",
    "    category STRING\n",
    ");\n",
    "\n",
    "--training data\n",
    "INSERT INTO question_data (question_id, text, category) VALUES\n",
    "    (1,'What is the capital of France?', 'geography'),\n",
    "    (2,'Name the tallest mountain in the world', 'geography'),\n",
    "    (3,'How does quantum computing work?', 'technology'),\n",
    "    (4,'Best practices for cybersecurity', 'technology'),\n",
    "    (5,'Explain the theory of relativity', 'science'),\n",
    "    (6,'What are the planets in our solar system?', 'science'),\n",
    "    (7,'Who discovered electricity?', 'science'),\n",
    "    (8,'What is the largest desert in the world?', 'geography'),\n",
    "    (9,'Difference between classical and quantum computing?', 'technology'),\n",
    "    (10,'What is the circumference of the Earth?', 'geography');\n",
    "\n",
    "\n",
    "select * from question_data;"
   ]
  },
  {
   "cell_type": "code",
   "execution_count": 0,
   "metadata": {
    "application/vnd.databricks.v1+cell": {
     "cellMetadata": {
      "byteLimit": 2048000,
      "implicitDf": true,
      "rowLimit": 10000
     },
     "inputWidgets": {},
     "nuid": "c3ccb4dc-ede2-4afe-917a-3032180325c6",
     "showTitle": false,
     "tableResultSettingsMap": {},
     "title": ""
    }
   },
   "outputs": [],
   "source": [
    "%sql\n",
    "SELECT ai_query('databricks-bge-large-en',\n",
    "    request => \"Who discovered electricity?\")"
   ]
  },
  {
   "cell_type": "code",
   "execution_count": 0,
   "metadata": {
    "application/vnd.databricks.v1+cell": {
     "cellMetadata": {
      "byteLimit": 2048000,
      "implicitDf": true,
      "rowLimit": 10000
     },
     "inputWidgets": {},
     "nuid": "21936e52-1df1-4c49-bfaf-59ad6d06db72",
     "showTitle": false,
     "tableResultSettingsMap": {},
     "title": ""
    }
   },
   "outputs": [],
   "source": [
    "%sql\n",
    "create or replace table question_data_vector_store as \n",
    "select question_id, TEXT,CATEGORY,ai_query('databricks-bge-large-en', request => text) as embedding_vector from question_data;"
   ]
  },
  {
   "cell_type": "code",
   "execution_count": 0,
   "metadata": {
    "application/vnd.databricks.v1+cell": {
     "cellMetadata": {
      "byteLimit": 2048000,
      "implicitDf": true,
      "rowLimit": 10000
     },
     "inputWidgets": {},
     "nuid": "667401de-db40-43c7-9189-0e31517708e2",
     "showTitle": false,
     "tableResultSettingsMap": {},
     "title": ""
    }
   },
   "outputs": [],
   "source": [
    "%sql\n",
    "select * from question_data_vector_store;"
   ]
  },
  {
   "cell_type": "code",
   "execution_count": 0,
   "metadata": {
    "application/vnd.databricks.v1+cell": {
     "cellMetadata": {
      "byteLimit": 2048000,
      "implicitDf": true,
      "rowLimit": 10000
     },
     "inputWidgets": {},
     "nuid": "ea9c1654-cc4e-4eb2-98b8-7798cd910a85",
     "showTitle": false,
     "tableResultSettingsMap": {},
     "title": ""
    }
   },
   "outputs": [],
   "source": [
    "%sql\n",
    "ALTER TABLE `workspace`.`default`.`question_data_vector_store` SET TBLPROPERTIES (delta.enableChangeDataFeed = true)"
   ]
  },
  {
   "cell_type": "code",
   "execution_count": 0,
   "metadata": {
    "application/vnd.databricks.v1+cell": {
     "cellMetadata": {
      "byteLimit": 2048000,
      "implicitDf": true,
      "rowLimit": 10000
     },
     "inputWidgets": {},
     "nuid": "bdbfa924-bf83-464c-b094-524ba4a2e7ff",
     "showTitle": false,
     "tableResultSettingsMap": {},
     "title": ""
    }
   },
   "outputs": [],
   "source": [
    "%sql\n",
    "\n",
    "SELECT * FROM VECTOR_SEARCH(index => \"workspace.default.first_vector_index\", query_vector =>ai_query('databricks-bge-large-en', request => \"Difference between Snowflake & Databricks?\"), num_results => 2)"
   ]
  },
  {
   "cell_type": "markdown",
   "metadata": {
    "application/vnd.databricks.v1+cell": {
     "cellMetadata": {},
     "inputWidgets": {},
     "nuid": "adc25203-59b1-4b39-b0b0-5fcc5ded8842",
     "showTitle": false,
     "tableResultSettingsMap": {},
     "title": ""
    }
   },
   "source": [
    "### Incremental Data Processing"
   ]
  },
  {
   "cell_type": "code",
   "execution_count": 0,
   "metadata": {
    "application/vnd.databricks.v1+cell": {
     "cellMetadata": {
      "byteLimit": 2048000,
      "implicitDf": true,
      "rowLimit": 10000
     },
     "inputWidgets": {},
     "nuid": "cdbc3647-78e4-4f8b-bc64-54cf47954a7e",
     "showTitle": false,
     "tableResultSettingsMap": {},
     "title": ""
    }
   },
   "outputs": [],
   "source": [
    "%sql\n",
    "INSERT INTO question_data (question_id, text, category) VALUES\n",
    "    (11, 'What is photosynthesis?', 'science'),\n",
    "    (12, 'Who invented the telephone?', 'technology'),\n",
    "    (13, 'What is the capital of Australia?', 'geography'),\n",
    "    (14, 'Define Newton’s laws of motion', 'science'),\n",
    "    (15, 'What is artificial intelligence?', 'technology'),\n",
    "    (16, 'Name the longest river in the world', 'geography'),\n",
    "    (17, 'How does GPS work?', 'technology'),\n",
    "    (18, 'What is the boiling point of water?', 'science'),\n",
    "    (19, 'Where is the Sahara Desert located?', 'geography'),\n",
    "    (20, 'What is blockchain technology?', 'technology');"
   ]
  },
  {
   "cell_type": "code",
   "execution_count": 0,
   "metadata": {
    "application/vnd.databricks.v1+cell": {
     "cellMetadata": {
      "byteLimit": 2048000,
      "implicitDf": true,
      "rowLimit": 10000
     },
     "inputWidgets": {},
     "nuid": "72536798-ffeb-464d-8ba5-fc823b7d663d",
     "showTitle": false,
     "tableResultSettingsMap": {},
     "title": ""
    }
   },
   "outputs": [],
   "source": [
    "%sql\n",
    "select * from question_data;"
   ]
  },
  {
   "cell_type": "code",
   "execution_count": 0,
   "metadata": {
    "application/vnd.databricks.v1+cell": {
     "cellMetadata": {
      "byteLimit": 2048000,
      "implicitDf": true,
      "rowLimit": 10000
     },
     "inputWidgets": {},
     "nuid": "5bf91b56-1eaf-408a-b1e5-276e4268f844",
     "showTitle": false,
     "tableResultSettingsMap": {},
     "title": ""
    }
   },
   "outputs": [],
   "source": [
    "%sql\n",
    "select question_id, TEXT,  CATEGORY, ai_query('databricks-bge-large-en', request => text) as embedding_vector from question_data where question_id>(select max(question_id) from `workspace`.`default`.`question_data_vector_store`);"
   ]
  },
  {
   "cell_type": "code",
   "execution_count": 0,
   "metadata": {
    "application/vnd.databricks.v1+cell": {
     "cellMetadata": {
      "byteLimit": 2048000,
      "implicitDf": true,
      "rowLimit": 10000
     },
     "inputWidgets": {},
     "nuid": "6fd4037d-3b82-4a70-a4fa-2eff0ef83cc5",
     "showTitle": false,
     "tableResultSettingsMap": {},
     "title": ""
    }
   },
   "outputs": [],
   "source": [
    "%sql\n",
    "insert into question_data_vector_store (question_id, TEXT,  CATEGORY, embedding_vector)\n",
    "select question_id, TEXT,  CATEGORY, ai_query('databricks-bge-large-en', request => text) as embedding_vector from question_data where question_id>(select max(question_id) from `workspace`.`default`.`question_data_vector_store`);"
   ]
  },
  {
   "cell_type": "code",
   "execution_count": 0,
   "metadata": {
    "application/vnd.databricks.v1+cell": {
     "cellMetadata": {
      "byteLimit": 2048000,
      "implicitDf": true,
      "rowLimit": 10000
     },
     "inputWidgets": {},
     "nuid": "be61093b-cecb-4d8c-927c-cfcea65e48d3",
     "showTitle": false,
     "tableResultSettingsMap": {},
     "title": ""
    }
   },
   "outputs": [],
   "source": [
    "%sql\n",
    "select * from question_data_vector_store;"
   ]
  },
  {
   "cell_type": "code",
   "execution_count": 0,
   "metadata": {
    "application/vnd.databricks.v1+cell": {
     "cellMetadata": {
      "byteLimit": 2048000,
      "implicitDf": true,
      "rowLimit": 10000
     },
     "inputWidgets": {},
     "nuid": "3b92cd69-516d-4623-9e33-bed1ead4fa11",
     "showTitle": false,
     "tableResultSettingsMap": {},
     "title": ""
    }
   },
   "outputs": [],
   "source": [
    "%sql\n",
    "SELECT * FROM VECTOR_SEARCH(index => \"workspace.default.first_vector_index\", query_vector =>ai_query('databricks-bge-large-en', request => \"Explain God Particle, Higgs Boson\"), num_results => 2)"
   ]
  }
 ],
 "metadata": {
  "application/vnd.databricks.v1+notebook": {
   "computePreferences": null,
   "dashboards": [],
   "environmentMetadata": {
    "base_environment": "",
    "environment_version": "2"
   },
   "inputWidgetPreferences": null,
   "language": "python",
   "notebookMetadata": {
    "mostRecentlyExecutedCommandWithImplicitDF": {
     "commandId": 5584826188966461,
     "dataframes": [
      "_sqldf"
     ]
    },
    "pythonIndentUnit": 4
   },
   "notebookName": "Intelligent Text Classification using Databricks Gen AI",
   "widgets": {}
  },
  "language_info": {
   "name": "python"
  }
 },
 "nbformat": 4,
 "nbformat_minor": 0
}