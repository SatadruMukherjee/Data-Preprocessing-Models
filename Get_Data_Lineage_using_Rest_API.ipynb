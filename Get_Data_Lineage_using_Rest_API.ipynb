{
  "nbformat": 4,
  "nbformat_minor": 0,
  "metadata": {
    "colab": {
      "provenance": []
    },
    "kernelspec": {
      "name": "python3",
      "display_name": "Python 3"
    },
    "language_info": {
      "name": "python"
    }
  },
  "cells": [
    {
      "cell_type": "code",
      "execution_count": 23,
      "metadata": {
        "id": "lgVFFTmOPedj"
      },
      "outputs": [],
      "source": [
        "import requests\n",
        "import json"
      ]
    },
    {
      "cell_type": "code",
      "source": [
        "access_token = '{}'"
      ],
      "metadata": {
        "id": "gjGYxVGAPt6m"
      },
      "execution_count": 25,
      "outputs": []
    },
    {
      "cell_type": "code",
      "source": [
        "endpoint =\"https://{}/api/2.0/lineage-tracking/table-lineage\""
      ],
      "metadata": {
        "id": "m4ACYxOkP999"
      },
      "execution_count": 26,
      "outputs": []
    },
    {
      "cell_type": "code",
      "source": [
        "payload = {\"table_name\": \"workspace.default.iris_date_transformed\", \"include_entity_lineage\": True}"
      ],
      "metadata": {
        "id": "BeSnKJTvmGke"
      },
      "execution_count": 30,
      "outputs": []
    },
    {
      "cell_type": "code",
      "source": [
        "response= requests.get(endpoint, headers={\"Authorization\": f\"Bearer {access_token}\"},  data=json.dumps(payload))"
      ],
      "metadata": {
        "id": "Mb6ceI0CmAzN"
      },
      "execution_count": 31,
      "outputs": []
    },
    {
      "cell_type": "code",
      "source": [
        "print(response.text)"
      ],
      "metadata": {
        "colab": {
          "base_uri": "https://localhost:8080/"
        },
        "id": "9KT2nK8kmSmc",
        "outputId": "cb0ad7e7-f452-4d35-e773-8eaf67c3cdd8"
      },
      "execution_count": 32,
      "outputs": [
        {
          "output_type": "stream",
          "name": "stdout",
          "text": [
            "{\"upstreams\":[{\"tableInfo\":{\"name\":\"iris_date\",\"catalog_name\":\"workspace\",\"schema_name\":\"default\",\"table_type\":\"TABLE\",\"lineage_timestamp\":\"2025-05-15 16:12:35.0\"},\"notebookInfos\":[{\"workspace_id\":3835792019408392,\"notebook_id\":3011685692879898,\"lineage_timestamp\":\"2025-05-15 16:12:35.0\"}]}],\"downstreams\":[{\"tableInfo\":{\"name\":\"iris_gold\",\"catalog_name\":\"workspace\",\"schema_name\":\"default\",\"table_type\":\"PERSISTED_VIEW\",\"lineage_timestamp\":\"2025-05-15 16:14:22.0\"},\"queryInfos\":[{\"workspace_id\":3835792019408392,\"query_id\":\"f9185d3a-5537-464c-b9b9-5fd6ec9c6d1c\",\"lineage_timestamp\":\"2025-05-15 16:14:22.0\"},{\"workspace_id\":3835792019408392,\"query_id\":\"514c9f90-5ed9-4aa2-b8be-fd036c917a5a\",\"lineage_timestamp\":\"2025-05-15 15:52:35.0\"}]},{\"notebookInfos\":[{\"workspace_id\":3835792019408392,\"notebook_id\":3011685692879898,\"lineage_timestamp\":\"2025-05-15 16:12:40.0\"}]}]}\n"
          ]
        }
      ]
    },
    {
      "cell_type": "code",
      "source": [],
      "metadata": {
        "id": "VqRB08rTmTm0"
      },
      "execution_count": null,
      "outputs": []
    }
  ]
}