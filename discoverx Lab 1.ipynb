{
 "cells": [
  {
   "cell_type": "markdown",
   "metadata": {
    "application/vnd.databricks.v1+cell": {
     "cellMetadata": {},
     "inputWidgets": {},
     "nuid": "10c55e54-f2dd-4982-9df8-65b7eae05360",
     "showTitle": false,
     "tableResultSettingsMap": {},
     "title": ""
    }
   },
   "source": [
    "# Multi-table operations made simple with DiscoverX"
   ]
  },
  {
   "cell_type": "code",
   "execution_count": 0,
   "metadata": {
    "application/vnd.databricks.v1+cell": {
     "cellMetadata": {
      "byteLimit": 2048000,
      "rowLimit": 10000
     },
     "inputWidgets": {},
     "nuid": "638ea041-d5a7-46d8-b6cc-ad61ae24f73a",
     "showTitle": false,
     "tableResultSettingsMap": {},
     "title": ""
    }
   },
   "outputs": [],
   "source": [
    "from pyspark.sql.types import *\n",
    "from pyspark.sql import SparkSession\n",
    "\n",
    "spark = SparkSession.builder.getOrCreate()\n",
    "\n",
    "# 1️⃣ Products Table - 5 rows\n",
    "products_data = [\n",
    "    (101, \"Laptop\", \"Electronics\", 850.50),\n",
    "    (102, \"Book\", \"Education\", 15.99),\n",
    "    (103, \"T-Shirt\", \"Clothing\", 25.49),\n",
    "    (104, \"Phone\", \"Electronics\", 699.00),\n",
    "    (105, \"Shoes\", \"Footwear\", 49.99)\n",
    "]\n",
    "products_schema = StructType([\n",
    "    StructField(\"product_id\", IntegerType(), True),\n",
    "    StructField(\"name\", StringType(), True),\n",
    "    StructField(\"category\", StringType(), True),\n",
    "    StructField(\"price\", DoubleType(), True)\n",
    "])\n",
    "spark.createDataFrame(products_data, products_schema) \\\n",
    "    .write.mode(\"overwrite\").format(\"delta\").saveAsTable(\"delta_products\")\n",
    "\n",
    "\n",
    "# 2️⃣ Employees Table - 3 rows\n",
    "employees_data = [\n",
    "    (1, \"Alice\", \"Engineering\", 75000),\n",
    "    (2, \"Bob\", \"Sales\", 55000),\n",
    "    (3, \"Charlie\", \"HR\", 48000)\n",
    "]\n",
    "employees_schema = StructType([\n",
    "    StructField(\"emp_id\", IntegerType(), True),\n",
    "    StructField(\"name\", StringType(), True),\n",
    "    StructField(\"department\", StringType(), True),\n",
    "    StructField(\"salary\", IntegerType(), True)\n",
    "])\n",
    "spark.createDataFrame(employees_data, employees_schema) \\\n",
    "    .write.mode(\"overwrite\").format(\"delta\").saveAsTable(\"delta_employees\")\n",
    "\n",
    "\n",
    "# 3️⃣ Sales Table - 10 rows\n",
    "sales_data = [\n",
    "    (1, 101, 2, \"2024-01-01\"),\n",
    "    (2, 103, 5, \"2024-02-10\"),\n",
    "    (3, 102, 1, \"2024-03-05\"),\n",
    "    (4, 104, 3, \"2024-03-15\"),\n",
    "    (5, 105, 2, \"2024-03-20\"),\n",
    "    (6, 101, 1, \"2024-03-22\"),\n",
    "    (7, 102, 4, \"2024-03-25\"),\n",
    "    (8, 103, 2, \"2024-04-01\"),\n",
    "    (9, 104, 1, \"2024-04-02\"),\n",
    "    (10, 105, 6, \"2024-04-04\")\n",
    "]\n",
    "sales_schema = StructType([\n",
    "    StructField(\"sale_id\", IntegerType(), True),\n",
    "    StructField(\"product_id\", IntegerType(), True),\n",
    "    StructField(\"quantity\", IntegerType(), True),\n",
    "    StructField(\"sale_date\", StringType(), True)\n",
    "])\n",
    "spark.createDataFrame(sales_data, sales_schema) \\\n",
    "    .write.mode(\"overwrite\").format(\"delta\").saveAsTable(\"delta_sales\")\n",
    "\n",
    "\n",
    "# 4️⃣ Customers Table - 2 rows\n",
    "customers_data = [\n",
    "    (1001, \"Daniel\", \"daniel@example.com\", \"India\"),\n",
    "    (1002, \"Emma\", \"emma@example.com\", \"USA\")\n",
    "]\n",
    "customers_schema = StructType([\n",
    "    StructField(\"customer_id\", IntegerType(), True),\n",
    "    StructField(\"name\", StringType(), True),\n",
    "    StructField(\"email\", StringType(), True),\n",
    "    StructField(\"country\", StringType(), True)\n",
    "])\n",
    "spark.createDataFrame(customers_data, customers_schema) \\\n",
    "    .write.mode(\"overwrite\").format(\"delta\").saveAsTable(\"delta_customers\")\n",
    "\n",
    "\n",
    "# 5️⃣ Transactions Table - 7 rows\n",
    "transactions_data = [\n",
    "    (\"TX100\", 1001, 101, \"2024-04-01\", \"Completed\"),\n",
    "    (\"TX101\", 1002, 103, \"2024-04-03\", \"Pending\"),\n",
    "    (\"TX102\", 1001, 102, \"2024-04-04\", \"Failed\"),\n",
    "    (\"TX103\", 1002, 104, \"2024-04-05\", \"Completed\"),\n",
    "    (\"TX104\", 1001, 105, \"2024-04-06\", \"Completed\"),\n",
    "    (\"TX105\", 1002, 101, \"2024-04-07\", \"Pending\"),\n",
    "    (\"TX106\", 1001, 103, \"2024-04-08\", \"Failed\")\n",
    "]\n",
    "transactions_schema = StructType([\n",
    "    StructField(\"txn_id\", StringType(), True),\n",
    "    StructField(\"customer_id\", IntegerType(), True),\n",
    "    StructField(\"product_id\", IntegerType(), True),\n",
    "    StructField(\"txn_date\", StringType(), True),\n",
    "    StructField(\"status\", StringType(), True)\n",
    "])\n",
    "spark.createDataFrame(transactions_data, transactions_schema) \\\n",
    "    .write.mode(\"overwrite\").format(\"delta\").saveAsTable(\"delta_transactions\")\n"
   ]
  },
  {
   "cell_type": "code",
   "execution_count": 0,
   "metadata": {
    "application/vnd.databricks.v1+cell": {
     "cellMetadata": {
      "byteLimit": 2048000,
      "rowLimit": 10000
     },
     "inputWidgets": {},
     "nuid": "c796f90c-832a-442a-9361-22133251e1c9",
     "showTitle": false,
     "tableResultSettingsMap": {},
     "title": ""
    }
   },
   "outputs": [
    {
     "output_type": "stream",
     "name": "stdout",
     "output_type": "stream",
     "text": [
      "Requirement already satisfied: dbl-discoverx in /local_disk0/.ephemeral_nfs/envs/pythonEnv-bdfb3f6d-4da6-477b-a14e-279027588640/lib/python3.11/site-packages (0.0.8)\nRequirement already satisfied: pyyaml in /databricks/python3/lib/python3.11/site-packages (from dbl-discoverx) (6.0)\n\u001B[43mNote: you may need to restart the kernel using %restart_python or dbutils.library.restartPython() to use updated packages.\u001B[0m\n"
     ]
    }
   ],
   "source": [
    "%pip install dbl-discoverx\n"
   ]
  },
  {
   "cell_type": "code",
   "execution_count": 0,
   "metadata": {
    "application/vnd.databricks.v1+cell": {
     "cellMetadata": {
      "byteLimit": 2048000,
      "rowLimit": 10000
     },
     "inputWidgets": {},
     "nuid": "5bd72e4f-c430-49bc-87fd-94750de7ba28",
     "showTitle": false,
     "tableResultSettingsMap": {},
     "title": ""
    }
   },
   "outputs": [],
   "source": [
    "dbutils.library.restartPython()\n"
   ]
  },
  {
   "cell_type": "code",
   "execution_count": 0,
   "metadata": {
    "application/vnd.databricks.v1+cell": {
     "cellMetadata": {
      "byteLimit": 2048000,
      "rowLimit": 10000
     },
     "inputWidgets": {},
     "nuid": "03549dfa-6015-4c91-90dd-4a5e22765a0b",
     "showTitle": false,
     "tableResultSettingsMap": {},
     "title": ""
    }
   },
   "outputs": [
    {
     "output_type": "display_data",
     "data": {
      "text/html": [
       "\n",
       "        <h1>Hi there, I'm DiscoverX.</h1>\n",
       "\n",
       "        <p>\n",
       "          I'm here to help you paralelize multi-table operations across your lakehouse.<br />\n",
       "          You can start by defining the set of tables to run operations on (use \"*\" as a wildcard)<br />\n",
       "        </p>\n",
       "        <pre><code>dx.from_tables(\"*.*.*\")</code></pre>\n",
       "        <p>\n",
       "            Then you can apply the following operations\n",
       "            <ul>\n",
       "                <li><code>.with_sql(...)</code> - Runs a SQL template on each table</li>\n",
       "                <li><code>.scan(...)</code> - Scan your lakehouse for columns matching the given rules</li>\n",
       "                <li><code>.search(...)</code> - Search your lakehouse for columns matching the given search term</li>\n",
       "            </ul>\n",
       "        </p>\n",
       "        <p>\n",
       "          For more detailed instructions, check out the <a href=\"https://github.com/databrickslabs/discoverx\">readme</a> or use\n",
       "        </p>\n",
       "        <pre><code>help(DX)</code></pre>\n",
       "        "
      ]
     },
     "metadata": {},
     "output_type": "display_data"
    }
   ],
   "source": [
    "from discoverx import DX\n",
    "dx = DX()"
   ]
  },
  {
   "cell_type": "code",
   "execution_count": 0,
   "metadata": {
    "application/vnd.databricks.v1+cell": {
     "cellMetadata": {
      "byteLimit": 2048000,
      "rowLimit": 10000
     },
     "inputWidgets": {},
     "nuid": "c97b2c29-2601-4671-a2cf-27e1b034a153",
     "showTitle": false,
     "tableResultSettingsMap": {},
     "title": ""
    }
   },
   "outputs": [
    {
     "output_type": "stream",
     "name": "stdout",
     "output_type": "stream",
     "text": [
      "DiscoverX will apply the following SQL template\n\nSELECT COUNT(*) FROM {full_table_name}\n\nto the tables in the following catalog, schema, table combinations:\nworkspace.default.*\n\nThe SQL to be executed is (just a moment, generating it...):\n"
     ]
    },
    {
     "output_type": "display_data",
     "data": {
      "text/html": [
       "\n",
       "                <p>For table: workspace.default.delta_customers</p>\n",
       "                <pre><code>SELECT COUNT(*) FROM workspace.default.delta_customers</code></pre>\n",
       "                \n",
       "                <p>For table: workspace.default.delta_employees</p>\n",
       "                <pre><code>SELECT COUNT(*) FROM workspace.default.delta_employees</code></pre>\n",
       "                \n",
       "                <p>For table: workspace.default.delta_products</p>\n",
       "                <pre><code>SELECT COUNT(*) FROM workspace.default.delta_products</code></pre>\n",
       "                \n",
       "                <p>For table: workspace.default.delta_sales</p>\n",
       "                <pre><code>SELECT COUNT(*) FROM workspace.default.delta_sales</code></pre>\n",
       "                \n",
       "                <p>For table: workspace.default.delta_transactions</p>\n",
       "                <pre><code>SELECT COUNT(*) FROM workspace.default.delta_transactions</code></pre>\n",
       "                "
      ]
     },
     "metadata": {},
     "output_type": "display_data"
    }
   ],
   "source": [
    "from_tables = \"workspace.default.*\"\n",
    "dx.from_tables(from_tables).with_sql(\"\"\"SELECT COUNT(*) FROM {full_table_name}\"\"\").explain()\n"
   ]
  },
  {
   "cell_type": "code",
   "execution_count": 0,
   "metadata": {
    "application/vnd.databricks.v1+cell": {
     "cellMetadata": {
      "byteLimit": 2048000,
      "rowLimit": 10000
     },
     "inputWidgets": {},
     "nuid": "b6d598b8-7367-4329-987e-c6d73c935d46",
     "showTitle": false,
     "tableResultSettingsMap": {},
     "title": ""
    }
   },
   "outputs": [
    {
     "output_type": "display_data",
     "data": {
      "text/html": [
       "<style scoped>\n",
       "  .table-result-container {\n",
       "    max-height: 300px;\n",
       "    overflow: auto;\n",
       "  }\n",
       "  table, th, td {\n",
       "    border: 1px solid black;\n",
       "    border-collapse: collapse;\n",
       "  }\n",
       "  th, td {\n",
       "    padding: 5px;\n",
       "  }\n",
       "  th {\n",
       "    text-align: left;\n",
       "  }\n",
       "</style><div class='table-result-container'><table class='table-result'><thead style='background-color: white'><tr><th>count(1)</th><th>table_catalog</th><th>table_schema</th><th>table_name</th></tr></thead><tbody><tr><td>7</td><td>workspace</td><td>default</td><td>delta_transactions</td></tr><tr><td>10</td><td>workspace</td><td>default</td><td>delta_sales</td></tr><tr><td>3</td><td>workspace</td><td>default</td><td>delta_employees</td></tr><tr><td>2</td><td>workspace</td><td>default</td><td>delta_customers</td></tr><tr><td>5</td><td>workspace</td><td>default</td><td>delta_products</td></tr></tbody></table></div>"
      ]
     },
     "metadata": {
      "application/vnd.databricks.v1+output": {
       "addedWidgets": {},
       "aggData": [],
       "aggError": "",
       "aggOverflow": false,
       "aggSchema": [],
       "aggSeriesLimitReached": false,
       "aggType": "",
       "arguments": {},
       "columnCustomDisplayInfos": {},
       "data": [
        [
         7,
         "workspace",
         "default",
         "delta_transactions"
        ],
        [
         10,
         "workspace",
         "default",
         "delta_sales"
        ],
        [
         3,
         "workspace",
         "default",
         "delta_employees"
        ],
        [
         2,
         "workspace",
         "default",
         "delta_customers"
        ],
        [
         5,
         "workspace",
         "default",
         "delta_products"
        ]
       ],
       "datasetInfos": [],
       "dbfsResultPath": null,
       "isJsonSchema": true,
       "metadata": {},
       "overflow": false,
       "plotOptions": {
        "customPlotOptions": {},
        "displayType": "table",
        "pivotAggregation": null,
        "pivotColumns": null,
        "xColumns": null,
        "yColumns": null
       },
       "removedWidgets": [],
       "schema": [
        {
         "metadata": "{\"__autoGeneratedAlias\":\"true\"}",
         "name": "count(1)",
         "type": "\"long\""
        },
        {
         "metadata": "{}",
         "name": "table_catalog",
         "type": "\"string\""
        },
        {
         "metadata": "{}",
         "name": "table_schema",
         "type": "\"string\""
        },
        {
         "metadata": "{}",
         "name": "table_name",
         "type": "\"string\""
        }
       ],
       "type": "table"
      }
     },
     "output_type": "display_data"
    }
   ],
   "source": [
    "table_counts=dx.from_tables(from_tables).with_sql(\"\"\"SELECT COUNT(*) FROM {full_table_name}\"\"\").apply()\n",
    "table_counts.display()\n"
   ]
  },
  {
   "cell_type": "code",
   "execution_count": 0,
   "metadata": {
    "application/vnd.databricks.v1+cell": {
     "cellMetadata": {
      "byteLimit": 2048000,
      "rowLimit": 10000
     },
     "inputWidgets": {},
     "nuid": "850b9290-2b71-4441-96d2-a02732ee790d",
     "showTitle": false,
     "tableResultSettingsMap": {},
     "title": ""
    }
   },
   "outputs": [
    {
     "output_type": "stream",
     "name": "stdout",
     "output_type": "stream",
     "text": [
      "DiscoverX will apply the following SQL template\n\nDrop table {full_table_name}\n\nto the tables in the following catalog, schema, table combinations:\nworkspace.default.*\n\nThe SQL to be executed is (just a moment, generating it...):\n"
     ]
    },
    {
     "output_type": "display_data",
     "data": {
      "text/html": [
       "\n",
       "                <p>For table: workspace.default.delta_customers</p>\n",
       "                <pre><code>Drop table workspace.default.delta_customers</code></pre>\n",
       "                \n",
       "                <p>For table: workspace.default.delta_employees</p>\n",
       "                <pre><code>Drop table workspace.default.delta_employees</code></pre>\n",
       "                \n",
       "                <p>For table: workspace.default.delta_products</p>\n",
       "                <pre><code>Drop table workspace.default.delta_products</code></pre>\n",
       "                \n",
       "                <p>For table: workspace.default.delta_sales</p>\n",
       "                <pre><code>Drop table workspace.default.delta_sales</code></pre>\n",
       "                \n",
       "                <p>For table: workspace.default.delta_transactions</p>\n",
       "                <pre><code>Drop table workspace.default.delta_transactions</code></pre>\n",
       "                "
      ]
     },
     "metadata": {},
     "output_type": "display_data"
    }
   ],
   "source": [
    "dx.from_tables(from_tables).with_sql(\"\"\"Drop table {full_table_name}\"\"\").explain()"
   ]
  },
  {
   "cell_type": "code",
   "execution_count": 0,
   "metadata": {
    "application/vnd.databricks.v1+cell": {
     "cellMetadata": {
      "byteLimit": 2048000,
      "rowLimit": 10000
     },
     "inputWidgets": {},
     "nuid": "46a49261-e7a0-42d6-b7ff-ca4a1a86b00e",
     "showTitle": false,
     "tableResultSettingsMap": {},
     "title": ""
    }
   },
   "outputs": [
    {
     "output_type": "execute_result",
     "data": {
      "text/plain": [
       "DataFrame[table_catalog: string, table_schema: string, table_name: string]"
      ]
     },
     "execution_count": 5,
     "metadata": {},
     "output_type": "execute_result"
    }
   ],
   "source": [
    "dx.from_tables(from_tables).with_sql(\"\"\"Drop table {full_table_name}\"\"\").apply()"
   ]
  }
 ],
 "metadata": {
  "application/vnd.databricks.v1+notebook": {
   "computePreferences": null,
   "dashboards": [],
   "environmentMetadata": {
    "base_environment": "",
    "environment_version": "2"
   },
   "inputWidgetPreferences": null,
   "language": "python",
   "notebookMetadata": {
    "pythonIndentUnit": 4
   },
   "notebookName": "discoverx Lab 1",
   "widgets": {}
  },
  "language_info": {
   "name": "python"
  }
 },
 "nbformat": 4,
 "nbformat_minor": 0
}